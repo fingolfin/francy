{
 "cells": [
  {
   "cell_type": "markdown",
   "metadata": {},
   "source": [
    "### Load Francy Package"
   ]
  },
  {
   "cell_type": "code",
   "execution_count": 3,
   "metadata": {},
   "outputs": [
    {
     "name": "stdout",
     "output_type": "stream",
     "text": [
      "#I  Please load package NormalizInterface or 4ti2Interface\n",
      "#I  to have extended functionalities.\n",
      "#I  Please load package SingularInterface or singular (not both)\n",
      "#I  or GradedModules to have extended functionalities.\n"
     ]
    },
    {
     "data": {
      "text/plain": [
       "true"
      ]
     },
     "execution_count": 1,
     "metadata": {
      "text/plain": ""
     },
     "output_type": "execute_result"
    },
    {
     "data": {
      "text/plain": [
       "true"
      ]
     },
     "execution_count": 2,
     "metadata": {
      "text/plain": ""
     },
     "output_type": "execute_result"
    },
    {
     "data": {
      "text/plain": [
       "true"
      ]
     },
     "execution_count": 3,
     "metadata": {
      "text/plain": ""
     },
     "output_type": "execute_result"
    }
   ],
   "source": [
    "LoadPackage(\"francy\");\n",
    "LoadPackage(\"digraph\");\n",
    "LoadPackage(\"num\");"
   ]
  },
  {
   "cell_type": "markdown",
   "metadata": {},
   "source": [
    "### An attempt to LatticeSubgroups By Markus"
   ]
  },
  {
   "cell_type": "code",
   "execution_count": 8,
   "metadata": {
    "scrolled": false
   },
   "outputs": [
    {
     "data": {
      "application/vnd.francy+json": "{\"version\" : \"0.8.10\",\"mime\" : \"application\\/vnd.francy+json\",\"canvas\" : {\"width\" : 800,\"id\" : \"F1\",\"height\" : 600,\"title\" : \"Lattice Subgroups\",\"zoomToFit\" : true,\"texTypesetting\" : false,\"menus\" : {},\"graph\" : {\"type\" : \"undirected\",\"id\" : \"F2\",\"simulation\" : true,\"collapsed\" : true,\"drag\" : false,\"showNeighbours\" : false,\"nodes\" : {\"F3\" : {\"x\" : 0,\"y\" : 0,\"type\" : \"diamond\",\"id\" : \"F3\",\"size\" : 10,\"title\" : \"1\",\"color\" : \"\",\"layer\" : -2,\"parent\" : \"\",\"menus\" : {},\"messages\" : {},\"callbacks\" : {}},\"F4\" : {\"x\" : 0,\"y\" : 0,\"type\" : \"circle\",\"id\" : \"F4\",\"size\" : 10,\"title\" : \"2\",\"color\" : \"\",\"layer\" : -4,\"parent\" : \"\",\"menus\" : {},\"messages\" : {},\"callbacks\" : {}},\"F5\" : {\"x\" : 0,\"y\" : 0,\"type\" : \"circle\",\"id\" : \"F5\",\"size\" : 10,\"title\" : \"2\",\"color\" : \"\",\"layer\" : -4,\"parent\" : \"\",\"menus\" : {},\"messages\" : {},\"callbacks\" : {}},\"F6\" : {\"x\" : 0,\"y\" : 0,\"type\" : \"circle\",\"id\" : \"F6\",\"size\" : 10,\"title\" : \"2\",\"color\" : \"\",\"layer\" : -4,\"parent\" : \"\",\"menus\" : {},\"messages\" : {},\"callbacks\" : {}},\"F7\" : {\"x\" : 0,\"y\" : 0,\"type\" : \"circle\",\"id\" : \"F7\",\"size\" : 10,\"title\" : \"2\",\"color\" : \"\",\"layer\" : -4,\"parent\" : \"\",\"menus\" : {},\"messages\" : {},\"callbacks\" : {}},\"F8\" : {\"x\" : 0,\"y\" : 0,\"type\" : \"circle\",\"id\" : \"F8\",\"size\" : 10,\"title\" : \"2\",\"color\" : \"\",\"layer\" : -4,\"parent\" : \"\",\"menus\" : {},\"messages\" : {},\"callbacks\" : {}},\"F9\" : {\"x\" : 0,\"y\" : 0,\"type\" : \"circle\",\"id\" : \"F9\",\"size\" : 10,\"title\" : \"2\",\"color\" : \"\",\"layer\" : -4,\"parent\" : \"\",\"menus\" : {},\"messages\" : {},\"callbacks\" : {}},\"F10\" : {\"x\" : 0,\"y\" : 0,\"type\" : \"circle\",\"id\" : \"F10\",\"size\" : 10,\"title\" : \"2\",\"color\" : \"\",\"layer\" : -4,\"parent\" : \"\",\"menus\" : {},\"messages\" : {},\"callbacks\" : {}},\"F11\" : {\"x\" : 0,\"y\" : 0,\"type\" : \"circle\",\"id\" : \"F11\",\"size\" : 10,\"title\" : \"2\",\"color\" : \"\",\"layer\" : -4,\"parent\" : \"\",\"menus\" : {},\"messages\" : {},\"callbacks\" : {}},\"F12\" : {\"x\" : 0,\"y\" : 0,\"type\" : \"circle\",\"id\" : \"F12\",\"size\" : 10,\"title\" : \"2\",\"color\" : \"\",\"layer\" : -4,\"parent\" : \"\",\"menus\" : {},\"messages\" : {},\"callbacks\" : {}},\"F13\" : {\"x\" : 0,\"y\" : 0,\"type\" : \"circle\",\"id\" : \"F13\",\"size\" : 10,\"title\" : \"2\",\"color\" : \"\",\"layer\" : -4,\"parent\" : \"\",\"menus\" : {},\"messages\" : {},\"callbacks\" : {}},\"F14\" : {\"x\" : 0,\"y\" : 0,\"type\" : \"circle\",\"id\" : \"F14\",\"size\" : 10,\"title\" : \"2\",\"color\" : \"\",\"layer\" : -4,\"parent\" : \"\",\"menus\" : {},\"messages\" : {},\"callbacks\" : {}},\"F15\" : {\"x\" : 0,\"y\" : 0,\"type\" : \"diamond\",\"id\" : \"F15\",\"size\" : 10,\"title\" : \"3\",\"color\" : \"\",\"layer\" : -4,\"parent\" : \"\",\"menus\" : {},\"messages\" : {},\"callbacks\" : {}},\"F16\" : {\"x\" : 0,\"y\" : 0,\"type\" : \"circle\",\"id\" : \"F16\",\"size\" : 10,\"title\" : \"4\",\"color\" : \"\",\"layer\" : -4,\"parent\" : \"\",\"menus\" : {},\"messages\" : {},\"callbacks\" : {}},\"F17\" : {\"x\" : 0,\"y\" : 0,\"type\" : \"circle\",\"id\" : \"F17\",\"size\" : 10,\"title\" : \"4\",\"color\" : \"\",\"layer\" : -4,\"parent\" : \"\",\"menus\" : {},\"messages\" : {},\"callbacks\" : {}},\"F18\" : {\"x\" : 0,\"y\" : 0,\"type\" : \"circle\",\"id\" : \"F18\",\"size\" : 10,\"title\" : \"4\",\"color\" : \"\",\"layer\" : -4,\"parent\" : \"\",\"menus\" : {},\"messages\" : {},\"callbacks\" : {}},\"F19\" : {\"x\" : 0,\"y\" : 0,\"type\" : \"circle\",\"id\" : \"F19\",\"size\" : 10,\"title\" : \"4\",\"color\" : \"\",\"layer\" : -4,\"parent\" : \"\",\"menus\" : {},\"messages\" : {},\"callbacks\" : {}},\"F20\" : {\"x\" : 0,\"y\" : 0,\"type\" : \"circle\",\"id\" : \"F20\",\"size\" : 10,\"title\" : \"4\",\"color\" : \"\",\"layer\" : -4,\"parent\" : \"\",\"menus\" : {},\"messages\" : {},\"callbacks\" : {}},\"F21\" : {\"x\" : 0,\"y\" : 0,\"type\" : \"circle\",\"id\" : \"F21\",\"size\" : 10,\"title\" : \"4\",\"color\" : \"\",\"layer\" : -4,\"parent\" : \"\",\"menus\" : {},\"messages\" : {},\"callbacks\" : {}},\"F22\" : {\"x\" : 0,\"y\" : 0,\"type\" : \"circle\",\"id\" : \"F22\",\"size\" : 10,\"title\" : \"4\",\"color\" : \"\",\"layer\" : -4,\"parent\" : \"\",\"menus\" : {},\"messages\" : {},\"callbacks\" : {}},\"F23\" : {\"x\" : 0,\"y\" : 0,\"type\" : \"circle\",\"id\" : \"F23\",\"size\" : 10,\"title\" : \"4\",\"color\" : \"\",\"layer\" : -4,\"parent\" : \"\",\"menus\" : {},\"messages\" : {},\"callbacks\" : {}},\"F24\" : {\"x\" : 0,\"y\" : 0,\"type\" : \"circle\",\"id\" : \"F24\",\"size\" : 10,\"title\" : \"4\",\"color\" : \"\",\"layer\" : -4,\"parent\" : \"\",\"menus\" : {},\"messages\" : {},\"callbacks\" : {}},\"F25\" : {\"x\" : 0,\"y\" : 0,\"type\" : \"circle\",\"id\" : \"F25\",\"size\" : 10,\"title\" : \"4\",\"color\" : \"\",\"layer\" : -4,\"parent\" : \"\",\"menus\" : {},\"messages\" : {},\"callbacks\" : {}},\"F26\" : {\"x\" : 0,\"y\" : 0,\"type\" : \"circle\",\"id\" : \"F26\",\"size\" : 10,\"title\" : \"4\",\"color\" : \"\",\"layer\" : -4,\"parent\" : \"\",\"menus\" : {},\"messages\" : {},\"callbacks\" : {}},\"F27\" : {\"x\" : 0,\"y\" : 0,\"type\" : \"circle\",\"id\" : \"F27\",\"size\" : 10,\"title\" : \"5\",\"color\" : \"\",\"layer\" : -6,\"parent\" : \"\",\"menus\" : {},\"messages\" : {},\"callbacks\" : {}},\"F28\" : {\"x\" : 0,\"y\" : 0,\"type\" : \"circle\",\"id\" : \"F28\",\"size\" : 10,\"title\" : \"5\",\"color\" : \"\",\"layer\" : -6,\"parent\" : \"\",\"menus\" : {},\"messages\" : {},\"callbacks\" : {}},\"F29\" : {\"x\" : 0,\"y\" : 0,\"type\" : \"circle\",\"id\" : \"F29\",\"size\" : 10,\"title\" : \"5\",\"color\" : \"\",\"layer\" : -6,\"parent\" : \"\",\"menus\" : {},\"messages\" : {},\"callbacks\" : {}},\"F30\" : {\"x\" : 0,\"y\" : 0,\"type\" : \"circle\",\"id\" : \"F30\",\"size\" : 10,\"title\" : \"5\",\"color\" : \"\",\"layer\" : -6,\"parent\" : \"\",\"menus\" : {},\"messages\" : {},\"callbacks\" : {}},\"F31\" : {\"x\" : 0,\"y\" : 0,\"type\" : \"circle\",\"id\" : \"F31\",\"size\" : 10,\"title\" : \"5\",\"color\" : \"\",\"layer\" : -6,\"parent\" : \"\",\"menus\" : {},\"messages\" : {},\"callbacks\" : {}},\"F32\" : {\"x\" : 0,\"y\" : 0,\"type\" : \"circle\",\"id\" : \"F32\",\"size\" : 10,\"title\" : \"5\",\"color\" : \"\",\"layer\" : -6,\"parent\" : \"\",\"menus\" : {},\"messages\" : {},\"callbacks\" : {}},\"F33\" : {\"x\" : 0,\"y\" : 0,\"type\" : \"circle\",\"id\" : \"F33\",\"size\" : 10,\"title\" : \"5\",\"color\" : \"\",\"layer\" : -6,\"parent\" : \"\",\"menus\" : {},\"messages\" : {},\"callbacks\" : {}},\"F34\" : {\"x\" : 0,\"y\" : 0,\"type\" : \"circle\",\"id\" : \"F34\",\"size\" : 10,\"title\" : \"5\",\"color\" : \"\",\"layer\" : -6,\"parent\" : \"\",\"menus\" : {},\"messages\" : {},\"callbacks\" : {}},\"F35\" : {\"x\" : 0,\"y\" : 0,\"type\" : \"circle\",\"id\" : \"F35\",\"size\" : 10,\"title\" : \"5\",\"color\" : \"\",\"layer\" : -6,\"parent\" : \"\",\"menus\" : {},\"messages\" : {},\"callbacks\" : {}},\"F36\" : {\"x\" : 0,\"y\" : 0,\"type\" : \"circle\",\"id\" : \"F36\",\"size\" : 10,\"title\" : \"5\",\"color\" : \"\",\"layer\" : -6,\"parent\" : \"\",\"menus\" : {},\"messages\" : {},\"callbacks\" : {}},\"F37\" : {\"x\" : 0,\"y\" : 0,\"type\" : \"circle\",\"id\" : \"F37\",\"size\" : 10,\"title\" : \"5\",\"color\" : \"\",\"layer\" : -6,\"parent\" : \"\",\"menus\" : {},\"messages\" : {},\"callbacks\" : {}},\"F38\" : {\"x\" : 0,\"y\" : 0,\"type\" : \"diamond\",\"id\" : \"F38\",\"size\" : 10,\"title\" : \"6\",\"color\" : \"\",\"layer\" : -8,\"parent\" : \"\",\"menus\" : {},\"messages\" : {},\"callbacks\" : {}},\"F39\" : {\"x\" : 0,\"y\" : 0,\"type\" : \"diamond\",\"id\" : \"F39\",\"size\" : 10,\"title\" : \"7\",\"color\" : \"\",\"layer\" : -10,\"parent\" : \"\",\"menus\" : {},\"messages\" : {},\"callbacks\" : {}},\"F40\" : {\"x\" : 0,\"y\" : 0,\"type\" : \"diamond\",\"id\" : \"F40\",\"size\" : 10,\"title\" : \"8\",\"color\" : \"\",\"layer\" : -10,\"parent\" : \"\",\"menus\" : {},\"messages\" : {},\"callbacks\" : {}},\"F41\" : {\"x\" : 0,\"y\" : 0,\"type\" : \"diamond\",\"id\" : \"F41\",\"size\" : 10,\"title\" : \"9\",\"color\" : \"\",\"layer\" : -10,\"parent\" : \"\",\"menus\" : {},\"messages\" : {},\"callbacks\" : {}},\"F42\" : {\"x\" : 0,\"y\" : 0,\"type\" : \"diamond\",\"id\" : \"F42\",\"size\" : 10,\"title\" : \"10\",\"color\" : \"\",\"layer\" : -12,\"parent\" : \"\",\"menus\" : {},\"messages\" : {},\"callbacks\" : {}}},\"links\" : {\"F43\" : {\"id\" : \"F43\",\"source\" : \"F4\",\"length\" : 0,\"weight\" : 0,\"color\" : \"\",\"invisible\" : false,\"target\" : \"F3\"},\"F44\" : {\"id\" : \"F44\",\"source\" : \"F5\",\"length\" : 0,\"weight\" : 0,\"color\" : \"\",\"invisible\" : false,\"target\" : \"F3\"},\"F45\" : {\"id\" : \"F45\",\"source\" : \"F6\",\"length\" : 0,\"weight\" : 0,\"color\" : \"\",\"invisible\" : false,\"target\" : \"F3\"},\"F46\" : {\"id\" : \"F46\",\"source\" : \"F7\",\"length\" : 0,\"weight\" : 0,\"color\" : \"\",\"invisible\" : false,\"target\" : \"F3\"},\"F47\" : {\"id\" : \"F47\",\"source\" : \"F8\",\"length\" : 0,\"weight\" : 0,\"color\" : \"\",\"invisible\" : false,\"target\" : \"F3\"},\"F48\" : {\"id\" : \"F48\",\"source\" : \"F9\",\"length\" : 0,\"weight\" : 0,\"color\" : \"\",\"invisible\" : false,\"target\" : \"F3\"},\"F49\" : {\"id\" : \"F49\",\"source\" : \"F10\",\"length\" : 0,\"weight\" : 0,\"color\" : \"\",\"invisible\" : false,\"target\" : \"F3\"},\"F50\" : {\"id\" : \"F50\",\"source\" : \"F11\",\"length\" : 0,\"weight\" : 0,\"color\" : \"\",\"invisible\" : false,\"target\" : \"F3\"},\"F51\" : {\"id\" : \"F51\",\"source\" : \"F12\",\"length\" : 0,\"weight\" : 0,\"color\" : \"\",\"invisible\" : false,\"target\" : \"F3\"},\"F52\" : {\"id\" : \"F52\",\"source\" : \"F13\",\"length\" : 0,\"weight\" : 0,\"color\" : \"\",\"invisible\" : false,\"target\" : \"F3\"},\"F53\" : {\"id\" : \"F53\",\"source\" : \"F14\",\"length\" : 0,\"weight\" : 0,\"color\" : \"\",\"invisible\" : false,\"target\" : \"F3\"},\"F54\" : {\"id\" : \"F54\",\"source\" : \"F15\",\"length\" : 0,\"weight\" : 0,\"color\" : \"\",\"invisible\" : false,\"target\" : \"F3\"},\"F55\" : {\"id\" : \"F55\",\"source\" : \"F16\",\"length\" : 0,\"weight\" : 0,\"color\" : \"\",\"invisible\" : false,\"target\" : \"F3\"},\"F56\" : {\"id\" : \"F56\",\"source\" : \"F17\",\"length\" : 0,\"weight\" : 0,\"color\" : \"\",\"invisible\" : false,\"target\" : \"F3\"},\"F57\" : {\"id\" : \"F57\",\"source\" : \"F18\",\"length\" : 0,\"weight\" : 0,\"color\" : \"\",\"invisible\" : false,\"target\" : \"F3\"},\"F58\" : {\"id\" : \"F58\",\"source\" : \"F19\",\"length\" : 0,\"weight\" : 0,\"color\" : \"\",\"invisible\" : false,\"target\" : \"F3\"},\"F59\" : {\"id\" : \"F59\",\"source\" : \"F20\",\"length\" : 0,\"weight\" : 0,\"color\" : \"\",\"invisible\" : false,\"target\" : \"F3\"},\"F60\" : {\"id\" : \"F60\",\"source\" : \"F21\",\"length\" : 0,\"weight\" : 0,\"color\" : \"\",\"invisible\" : false,\"target\" : \"F3\"},\"F61\" : {\"id\" : \"F61\",\"source\" : \"F22\",\"length\" : 0,\"weight\" : 0,\"color\" : \"\",\"invisible\" : false,\"target\" : \"F3\"},\"F62\" : {\"id\" : \"F62\",\"source\" : \"F23\",\"length\" : 0,\"weight\" : 0,\"color\" : \"\",\"invisible\" : false,\"target\" : \"F3\"},\"F63\" : {\"id\" : \"F63\",\"source\" : \"F24\",\"length\" : 0,\"weight\" : 0,\"color\" : \"\",\"invisible\" : false,\"target\" : \"F3\"},\"F64\" : {\"id\" : \"F64\",\"source\" : \"F25\",\"length\" : 0,\"weight\" : 0,\"color\" : \"\",\"invisible\" : false,\"target\" : \"F3\"},\"F65\" : {\"id\" : \"F65\",\"source\" : \"F26\",\"length\" : 0,\"weight\" : 0,\"color\" : \"\",\"invisible\" : false,\"target\" : \"F3\"},\"F66\" : {\"id\" : \"F66\",\"source\" : \"F27\",\"length\" : 0,\"weight\" : 0,\"color\" : \"\",\"invisible\" : false,\"target\" : \"F24\"},\"F67\" : {\"id\" : \"F67\",\"source\" : \"F28\",\"length\" : 0,\"weight\" : 0,\"color\" : \"\",\"invisible\" : false,\"target\" : \"F25\"},\"F68\" : {\"id\" : \"F68\",\"source\" : \"F29\",\"length\" : 0,\"weight\" : 0,\"color\" : \"\",\"invisible\" : false,\"target\" : \"F26\"},\"F69\" : {\"id\" : \"F69\",\"source\" : \"F30\",\"length\" : 0,\"weight\" : 0,\"color\" : \"\",\"invisible\" : false,\"target\" : \"F16\"},\"F70\" : {\"id\" : \"F70\",\"source\" : \"F31\",\"length\" : 0,\"weight\" : 0,\"color\" : \"\",\"invisible\" : false,\"target\" : \"F17\"},\"F71\" : {\"id\" : \"F71\",\"source\" : \"F32\",\"length\" : 0,\"weight\" : 0,\"color\" : \"\",\"invisible\" : false,\"target\" : \"F18\"},\"F72\" : {\"id\" : \"F72\",\"source\" : \"F33\",\"length\" : 0,\"weight\" : 0,\"color\" : \"\",\"invisible\" : false,\"target\" : \"F19\"},\"F73\" : {\"id\" : \"F73\",\"source\" : \"F34\",\"length\" : 0,\"weight\" : 0,\"color\" : \"\",\"invisible\" : false,\"target\" : \"F20\"},\"F74\" : {\"id\" : \"F74\",\"source\" : \"F35\",\"length\" : 0,\"weight\" : 0,\"color\" : \"\",\"invisible\" : false,\"target\" : \"F21\"},\"F75\" : {\"id\" : \"F75\",\"source\" : \"F36\",\"length\" : 0,\"weight\" : 0,\"color\" : \"\",\"invisible\" : false,\"target\" : \"F22\"},\"F76\" : {\"id\" : \"F76\",\"source\" : \"F37\",\"length\" : 0,\"weight\" : 0,\"color\" : \"\",\"invisible\" : false,\"target\" : \"F23\"},\"F77\" : {\"id\" : \"F77\",\"source\" : \"F27\",\"length\" : 0,\"weight\" : 0,\"color\" : \"\",\"invisible\" : false,\"target\" : \"F15\"},\"F78\" : {\"id\" : \"F78\",\"source\" : \"F28\",\"length\" : 0,\"weight\" : 0,\"color\" : \"\",\"invisible\" : false,\"target\" : \"F15\"},\"F79\" : {\"id\" : \"F79\",\"source\" : \"F29\",\"length\" : 0,\"weight\" : 0,\"color\" : \"\",\"invisible\" : false,\"target\" : \"F15\"},\"F80\" : {\"id\" : \"F80\",\"source\" : \"F30\",\"length\" : 0,\"weight\" : 0,\"color\" : \"\",\"invisible\" : false,\"target\" : \"F15\"},\"F81\" : {\"id\" : \"F81\",\"source\" : \"F31\",\"length\" : 0,\"weight\" : 0,\"color\" : \"\",\"invisible\" : false,\"target\" : \"F15\"},\"F82\" : {\"id\" : \"F82\",\"source\" : \"F32\",\"length\" : 0,\"weight\" : 0,\"color\" : \"\",\"invisible\" : false,\"target\" : \"F15\"},\"F83\" : {\"id\" : \"F83\",\"source\" : \"F33\",\"length\" : 0,\"weight\" : 0,\"color\" : \"\",\"invisible\" : false,\"target\" : \"F15\"},\"F84\" : {\"id\" : \"F84\",\"source\" : \"F34\",\"length\" : 0,\"weight\" : 0,\"color\" : \"\",\"invisible\" : false,\"target\" : \"F15\"},\"F85\" : {\"id\" : \"F85\",\"source\" : \"F35\",\"length\" : 0,\"weight\" : 0,\"color\" : \"\",\"invisible\" : false,\"target\" : \"F15\"},\"F86\" : {\"id\" : \"F86\",\"source\" : \"F36\",\"length\" : 0,\"weight\" : 0,\"color\" : \"\",\"invisible\" : false,\"target\" : \"F15\"},\"F87\" : {\"id\" : \"F87\",\"source\" : \"F37\",\"length\" : 0,\"weight\" : 0,\"color\" : \"\",\"invisible\" : false,\"target\" : \"F15\"},\"F88\" : {\"id\" : \"F88\",\"source\" : \"F27\",\"length\" : 0,\"weight\" : 0,\"color\" : \"\",\"invisible\" : false,\"target\" : \"F4\"},\"F89\" : {\"id\" : \"F89\",\"source\" : \"F28\",\"length\" : 0,\"weight\" : 0,\"color\" : \"\",\"invisible\" : false,\"target\" : \"F5\"},\"F90\" : {\"id\" : \"F90\",\"source\" : \"F29\",\"length\" : 0,\"weight\" : 0,\"color\" : \"\",\"invisible\" : false,\"target\" : \"F6\"},\"F91\" : {\"id\" : \"F91\",\"source\" : \"F30\",\"length\" : 0,\"weight\" : 0,\"color\" : \"\",\"invisible\" : false,\"target\" : \"F7\"},\"F92\" : {\"id\" : \"F92\",\"source\" : \"F31\",\"length\" : 0,\"weight\" : 0,\"color\" : \"\",\"invisible\" : false,\"target\" : \"F8\"},\"F93\" : {\"id\" : \"F93\",\"source\" : \"F32\",\"length\" : 0,\"weight\" : 0,\"color\" : \"\",\"invisible\" : false,\"target\" : \"F9\"},\"F94\" : {\"id\" : \"F94\",\"source\" : \"F33\",\"length\" : 0,\"weight\" : 0,\"color\" : \"\",\"invisible\" : false,\"target\" : \"F10\"},\"F95\" : {\"id\" : \"F95\",\"source\" : \"F34\",\"length\" : 0,\"weight\" : 0,\"color\" : \"\",\"invisible\" : false,\"target\" : \"F11\"},\"F96\" : {\"id\" : \"F96\",\"source\" : \"F35\",\"length\" : 0,\"weight\" : 0,\"color\" : \"\",\"invisible\" : false,\"target\" : \"F12\"},\"F97\" : {\"id\" : \"F97\",\"source\" : \"F36\",\"length\" : 0,\"weight\" : 0,\"color\" : \"\",\"invisible\" : false,\"target\" : \"F13\"},\"F98\" : {\"id\" : \"F98\",\"source\" : \"F37\",\"length\" : 0,\"weight\" : 0,\"color\" : \"\",\"invisible\" : false,\"target\" : \"F14\"},\"F99\" : {\"id\" : \"F99\",\"source\" : \"F38\",\"length\" : 0,\"weight\" : 0,\"color\" : \"\",\"invisible\" : false,\"target\" : \"F3\"},\"F100\" : {\"id\" : \"F100\",\"source\" : \"F39\",\"length\" : 0,\"weight\" : 0,\"color\" : \"\",\"invisible\" : false,\"target\" : \"F38\"},\"F101\" : {\"id\" : \"F101\",\"source\" : \"F39\",\"length\" : 0,\"weight\" : 0,\"color\" : \"\",\"invisible\" : false,\"target\" : \"F4\"},\"F102\" : {\"id\" : \"F102\",\"source\" : \"F39\",\"length\" : 0,\"weight\" : 0,\"color\" : \"\",\"invisible\" : false,\"target\" : \"F5\"},\"F103\" : {\"id\" : \"F103\",\"source\" : \"F39\",\"length\" : 0,\"weight\" : 0,\"color\" : \"\",\"invisible\" : false,\"target\" : \"F6\"},\"F104\" : {\"id\" : \"F104\",\"source\" : \"F39\",\"length\" : 0,\"weight\" : 0,\"color\" : \"\",\"invisible\" : false,\"target\" : \"F7\"},\"F105\" : {\"id\" : \"F105\",\"source\" : \"F39\",\"length\" : 0,\"weight\" : 0,\"color\" : \"\",\"invisible\" : false,\"target\" : \"F8\"},\"F106\" : {\"id\" : \"F106\",\"source\" : \"F39\",\"length\" : 0,\"weight\" : 0,\"color\" : \"\",\"invisible\" : false,\"target\" : \"F9\"},\"F107\" : {\"id\" : \"F107\",\"source\" : \"F39\",\"length\" : 0,\"weight\" : 0,\"color\" : \"\",\"invisible\" : false,\"target\" : \"F10\"},\"F108\" : {\"id\" : \"F108\",\"source\" : \"F39\",\"length\" : 0,\"weight\" : 0,\"color\" : \"\",\"invisible\" : false,\"target\" : \"F11\"},\"F109\" : {\"id\" : \"F109\",\"source\" : \"F39\",\"length\" : 0,\"weight\" : 0,\"color\" : \"\",\"invisible\" : false,\"target\" : \"F12\"},\"F110\" : {\"id\" : \"F110\",\"source\" : \"F39\",\"length\" : 0,\"weight\" : 0,\"color\" : \"\",\"invisible\" : false,\"target\" : \"F13\"},\"F111\" : {\"id\" : \"F111\",\"source\" : \"F39\",\"length\" : 0,\"weight\" : 0,\"color\" : \"\",\"invisible\" : false,\"target\" : \"F14\"},\"F112\" : {\"id\" : \"F112\",\"source\" : \"F40\",\"length\" : 0,\"weight\" : 0,\"color\" : \"\",\"invisible\" : false,\"target\" : \"F38\"},\"F113\" : {\"id\" : \"F113\",\"source\" : \"F40\",\"length\" : 0,\"weight\" : 0,\"color\" : \"\",\"invisible\" : false,\"target\" : \"F15\"},\"F114\" : {\"id\" : \"F114\",\"source\" : \"F41\",\"length\" : 0,\"weight\" : 0,\"color\" : \"\",\"invisible\" : false,\"target\" : \"F38\"},\"F115\" : {\"id\" : \"F115\",\"source\" : \"F41\",\"length\" : 0,\"weight\" : 0,\"color\" : \"\",\"invisible\" : false,\"target\" : \"F16\"},\"F116\" : {\"id\" : \"F116\",\"source\" : \"F41\",\"length\" : 0,\"weight\" : 0,\"color\" : \"\",\"invisible\" : false,\"target\" : \"F17\"},\"F117\" : {\"id\" : \"F117\",\"source\" : \"F41\",\"length\" : 0,\"weight\" : 0,\"color\" : \"\",\"invisible\" : false,\"target\" : \"F18\"},\"F118\" : {\"id\" : \"F118\",\"source\" : \"F41\",\"length\" : 0,\"weight\" : 0,\"color\" : \"\",\"invisible\" : false,\"target\" : \"F19\"},\"F119\" : {\"id\" : \"F119\",\"source\" : \"F41\",\"length\" : 0,\"weight\" : 0,\"color\" : \"\",\"invisible\" : false,\"target\" : \"F20\"},\"F120\" : {\"id\" : \"F120\",\"source\" : \"F41\",\"length\" : 0,\"weight\" : 0,\"color\" : \"\",\"invisible\" : false,\"target\" : \"F21\"},\"F121\" : {\"id\" : \"F121\",\"source\" : \"F41\",\"length\" : 0,\"weight\" : 0,\"color\" : \"\",\"invisible\" : false,\"target\" : \"F22\"},\"F122\" : {\"id\" : \"F122\",\"source\" : \"F41\",\"length\" : 0,\"weight\" : 0,\"color\" : \"\",\"invisible\" : false,\"target\" : \"F23\"},\"F123\" : {\"id\" : \"F123\",\"source\" : \"F41\",\"length\" : 0,\"weight\" : 0,\"color\" : \"\",\"invisible\" : false,\"target\" : \"F24\"},\"F124\" : {\"id\" : \"F124\",\"source\" : \"F41\",\"length\" : 0,\"weight\" : 0,\"color\" : \"\",\"invisible\" : false,\"target\" : \"F25\"},\"F125\" : {\"id\" : \"F125\",\"source\" : \"F41\",\"length\" : 0,\"weight\" : 0,\"color\" : \"\",\"invisible\" : false,\"target\" : \"F26\"},\"F126\" : {\"id\" : \"F126\",\"source\" : \"F42\",\"length\" : 0,\"weight\" : 0,\"color\" : \"\",\"invisible\" : false,\"target\" : \"F41\"},\"F127\" : {\"id\" : \"F127\",\"source\" : \"F42\",\"length\" : 0,\"weight\" : 0,\"color\" : \"\",\"invisible\" : false,\"target\" : \"F40\"},\"F128\" : {\"id\" : \"F128\",\"source\" : \"F42\",\"length\" : 0,\"weight\" : 0,\"color\" : \"\",\"invisible\" : false,\"target\" : \"F39\"},\"F129\" : {\"id\" : \"F129\",\"source\" : \"F42\",\"length\" : 0,\"weight\" : 0,\"color\" : \"\",\"invisible\" : false,\"target\" : \"F27\"},\"F130\" : {\"id\" : \"F130\",\"source\" : \"F42\",\"length\" : 0,\"weight\" : 0,\"color\" : \"\",\"invisible\" : false,\"target\" : \"F28\"},\"F131\" : {\"id\" : \"F131\",\"source\" : \"F42\",\"length\" : 0,\"weight\" : 0,\"color\" : \"\",\"invisible\" : false,\"target\" : \"F29\"},\"F132\" : {\"id\" : \"F132\",\"source\" : \"F42\",\"length\" : 0,\"weight\" : 0,\"color\" : \"\",\"invisible\" : false,\"target\" : \"F30\"},\"F133\" : {\"id\" : \"F133\",\"source\" : \"F42\",\"length\" : 0,\"weight\" : 0,\"color\" : \"\",\"invisible\" : false,\"target\" : \"F31\"},\"F134\" : {\"id\" : \"F134\",\"source\" : \"F42\",\"length\" : 0,\"weight\" : 0,\"color\" : \"\",\"invisible\" : false,\"target\" : \"F32\"},\"F135\" : {\"id\" : \"F135\",\"source\" : \"F42\",\"length\" : 0,\"weight\" : 0,\"color\" : \"\",\"invisible\" : false,\"target\" : \"F33\"},\"F136\" : {\"id\" : \"F136\",\"source\" : \"F42\",\"length\" : 0,\"weight\" : 0,\"color\" : \"\",\"invisible\" : false,\"target\" : \"F34\"},\"F137\" : {\"id\" : \"F137\",\"source\" : \"F42\",\"length\" : 0,\"weight\" : 0,\"color\" : \"\",\"invisible\" : false,\"target\" : \"F35\"},\"F138\" : {\"id\" : \"F138\",\"source\" : \"F42\",\"length\" : 0,\"weight\" : 0,\"color\" : \"\",\"invisible\" : false,\"target\" : \"F36\"},\"F139\" : {\"id\" : \"F139\",\"source\" : \"F42\",\"length\" : 0,\"weight\" : 0,\"color\" : \"\",\"invisible\" : false,\"target\" : \"F37\"}}},\"messages\" : {}}}"
     },
     "execution_count": 8,
     "metadata": {
      "application/vnd.francy+json": {}
     },
     "output_type": "execute_result"
    }
   ],
   "source": [
    "DisplayLatticeSubgroups := function(L)\n",
    "    local cls, len, sz, max, rep, z, t, i, j, k, graphHasse, nodes, last;\n",
    "    cls:=ConjugacyClassesSubgroups(L);\n",
    "    len:=[];\n",
    "    sz:=[];\n",
    "    for i in cls do\n",
    "        Add(len,Size(i));\n",
    "        AddSet(sz,Size(Representative(i)));\n",
    "    od;\n",
    "\n",
    "    graphHasse := Graph(GraphType.UNDIRECTED);\n",
    "#SetShowNeighbours(graphHasse,true);\n",
    "\n",
    "    nodes := [];\n",
    "    sz:=Reversed(sz);\n",
    "    # subgroup nodes, also acccording to size\n",
    "    for i in [1..Length(cls)] do\n",
    "        nodes[i] := [];\n",
    "        for j in [1..len[i]] do\n",
    "            if len[i]=1 then\n",
    "                nodes[i][j] := Shape(ShapeType.DIAMOND, String(i));\n",
    "                SetLayer(nodes[i][j], -Size(Representative(cls[i])));\n",
    "                # AppendTo(file,\"\\\"\",i,\"x\",j,\"\\\" [label=\\\"\",i,\"\\\", shape=box];\\n\");\n",
    "            else\n",
    "                nodes[i][j] := Shape(ShapeType.CIRCLE, String(i));\n",
    "                SetLayer(nodes[i][j], -Size(Representative(cls[i])));\n",
    "                # AppendTo(file,\"\\\"\",i,\"x\",j,\"\\\" [label=\\\"\",i,\"-\",j,\"\\\", shape=circle];\\n\");\n",
    "            fi;\n",
    "            Add(graphHasse, nodes[i][j]);\n",
    "        od;\n",
    "    od;\n",
    "\n",
    "    last:=rec(o:=0,n:=0);\n",
    "    for i in [1..Length(cls)] do\n",
    "        for j in [1..len[i]] do\n",
    "            if Layer(nodes[i][j]) <> last.o then\n",
    "                last.o := Layer(nodes[i][j]);\n",
    "                last.n := last.n - 2;\n",
    "            fi;\n",
    "            SetLayer(nodes[i][j], last.n);\n",
    "        od;\n",
    "    od;\n",
    "\n",
    "    max:=MaximalSubgroupsLattice(L);\n",
    "    for i in [1..Length(cls)] do\n",
    "        for j in max[i] do\n",
    "            rep:=ClassElementLattice(cls[i],1);\n",
    "            for k in [1..len[i]] do\n",
    "                if k=1 then\n",
    "                    z:=j[2];\n",
    "                else\n",
    "                    t:=cls[i]!.normalizerTransversal[k];\n",
    "                    z:=ClassElementLattice(cls[j[1]],1); # force computation of transv.\n",
    "                    z:=cls[j[1]]!.normalizerTransversal[j[2]]*t;\n",
    "                    z:=PositionCanonical(cls[j[1]]!.normalizerTransversal,z);\n",
    "                fi;\n",
    "                Add(graphHasse, Link(nodes[i][k],nodes[j[1]][z]));\n",
    "          od;\n",
    "        od;\n",
    "      od;\n",
    "    return graphHasse;\n",
    "end;;\n",
    "L:=LatticeSubgroups(DihedralGroup(44));;\n",
    "canvas := Canvas(\"Lattice Subgroups\");;\n",
    "Add(canvas, DisplayLatticeSubgroups(L));;\n",
    "Draw(canvas);"
   ]
  },
  {
   "cell_type": "markdown",
   "metadata": {},
   "source": [
    "## Digraphs"
   ]
  },
  {
   "cell_type": "code",
   "execution_count": 36,
   "metadata": {},
   "outputs": [
    {
     "data": {
      "application/vnd.francy+json": "{\"version\" : \"0.8.10\",\"mime\" : \"application\\/vnd.francy+json\",\"canvas\" : {\"width\" : 800,\"id\" : \"F273\",\"height\" : 600,\"title\" : \"Subgroups Digraph of Group( [ f1, f2, f3 ] )\",\"zoomToFit\" : true,\"texTypesetting\" : false,\"menus\" : {},\"graph\" : {\"type\" : \"directed\",\"id\" : \"F207\",\"simulation\" : true,\"collapsed\" : true,\"drag\" : false,\"showNeighbours\" : false,\"nodes\" : {\"F209\" : {\"x\" : 0,\"y\" : 0,\"type\" : \"circle\",\"id\" : \"F209\",\"size\" : 10,\"title\" : \"1\",\"color\" : \"\",\"layer\" : 0,\"parent\" : \"\",\"menus\" : {\"F211\" : {\"id\" : \"F211\",\"title\" : \"Is this subgroup simple?\",\"callback\" : {\"func\" : \"IsGroupSimple\",\"id\" : \"F210\",\"trigger\" : \"click\",\"knownArgs\" : [\"1\"],\"requiredArgs\" : {}},\"menus\" : {}}},\"messages\" : {},\"callbacks\" : {}},\"F212\" : {\"x\" : 0,\"y\" : 0,\"type\" : \"circle\",\"id\" : \"F212\",\"size\" : 10,\"title\" : \"2\",\"color\" : \"\",\"layer\" : 0,\"parent\" : \"\",\"menus\" : {\"F214\" : {\"id\" : \"F214\",\"title\" : \"Is this subgroup simple?\",\"callback\" : {\"func\" : \"IsGroupSimple\",\"id\" : \"F213\",\"trigger\" : \"click\",\"knownArgs\" : [\"2\"],\"requiredArgs\" : {}},\"menus\" : {}}},\"messages\" : {},\"callbacks\" : {}},\"F215\" : {\"x\" : 0,\"y\" : 0,\"type\" : \"circle\",\"id\" : \"F215\",\"size\" : 10,\"title\" : \"3\",\"color\" : \"\",\"layer\" : 0,\"parent\" : \"\",\"menus\" : {\"F217\" : {\"id\" : \"F217\",\"title\" : \"Is this subgroup simple?\",\"callback\" : {\"func\" : \"IsGroupSimple\",\"id\" : \"F216\",\"trigger\" : \"click\",\"knownArgs\" : [\"3\"],\"requiredArgs\" : {}},\"menus\" : {}}},\"messages\" : {},\"callbacks\" : {}},\"F218\" : {\"x\" : 0,\"y\" : 0,\"type\" : \"circle\",\"id\" : \"F218\",\"size\" : 10,\"title\" : \"4\",\"color\" : \"\",\"layer\" : 0,\"parent\" : \"\",\"menus\" : {\"F220\" : {\"id\" : \"F220\",\"title\" : \"Is this subgroup simple?\",\"callback\" : {\"func\" : \"IsGroupSimple\",\"id\" : \"F219\",\"trigger\" : \"click\",\"knownArgs\" : [\"4\"],\"requiredArgs\" : {}},\"menus\" : {}}},\"messages\" : {},\"callbacks\" : {}},\"F221\" : {\"x\" : 0,\"y\" : 0,\"type\" : \"circle\",\"id\" : \"F221\",\"size\" : 10,\"title\" : \"5\",\"color\" : \"\",\"layer\" : 0,\"parent\" : \"\",\"menus\" : {\"F223\" : {\"id\" : \"F223\",\"title\" : \"Is this subgroup simple?\",\"callback\" : {\"func\" : \"IsGroupSimple\",\"id\" : \"F222\",\"trigger\" : \"click\",\"knownArgs\" : [\"5\"],\"requiredArgs\" : {}},\"menus\" : {}}},\"messages\" : {},\"callbacks\" : {}},\"F224\" : {\"x\" : 0,\"y\" : 0,\"type\" : \"circle\",\"id\" : \"F224\",\"size\" : 10,\"title\" : \"6\",\"color\" : \"\",\"layer\" : 0,\"parent\" : \"\",\"menus\" : {\"F226\" : {\"id\" : \"F226\",\"title\" : \"Is this subgroup simple?\",\"callback\" : {\"func\" : \"IsGroupSimple\",\"id\" : \"F225\",\"trigger\" : \"click\",\"knownArgs\" : [\"6\"],\"requiredArgs\" : {}},\"menus\" : {}}},\"messages\" : {},\"callbacks\" : {}},\"F227\" : {\"x\" : 0,\"y\" : 0,\"type\" : \"circle\",\"id\" : \"F227\",\"size\" : 10,\"title\" : \"7\",\"color\" : \"\",\"layer\" : 0,\"parent\" : \"\",\"menus\" : {\"F229\" : {\"id\" : \"F229\",\"title\" : \"Is this subgroup simple?\",\"callback\" : {\"func\" : \"IsGroupSimple\",\"id\" : \"F228\",\"trigger\" : \"click\",\"knownArgs\" : [\"7\"],\"requiredArgs\" : {}},\"menus\" : {}}},\"messages\" : {},\"callbacks\" : {}},\"F230\" : {\"x\" : 0,\"y\" : 0,\"type\" : \"circle\",\"id\" : \"F230\",\"size\" : 10,\"title\" : \"8\",\"color\" : \"\",\"layer\" : 0,\"parent\" : \"\",\"menus\" : {\"F232\" : {\"id\" : \"F232\",\"title\" : \"Is this subgroup simple?\",\"callback\" : {\"func\" : \"IsGroupSimple\",\"id\" : \"F231\",\"trigger\" : \"click\",\"knownArgs\" : [\"8\"],\"requiredArgs\" : {}},\"menus\" : {}}},\"messages\" : {},\"callbacks\" : {}},\"F233\" : {\"x\" : 0,\"y\" : 0,\"type\" : \"circle\",\"id\" : \"F233\",\"size\" : 10,\"title\" : \"9\",\"color\" : \"\",\"layer\" : 0,\"parent\" : \"\",\"menus\" : {\"F235\" : {\"id\" : \"F235\",\"title\" : \"Is this subgroup simple?\",\"callback\" : {\"func\" : \"IsGroupSimple\",\"id\" : \"F234\",\"trigger\" : \"click\",\"knownArgs\" : [\"9\"],\"requiredArgs\" : {}},\"menus\" : {}}},\"messages\" : {},\"callbacks\" : {}},\"F236\" : {\"x\" : 0,\"y\" : 0,\"type\" : \"circle\",\"id\" : \"F236\",\"size\" : 10,\"title\" : \"10\",\"color\" : \"\",\"layer\" : 0,\"parent\" : \"\",\"menus\" : {\"F238\" : {\"id\" : \"F238\",\"title\" : \"Is this subgroup simple?\",\"callback\" : {\"func\" : \"IsGroupSimple\",\"id\" : \"F237\",\"trigger\" : \"click\",\"knownArgs\" : [\"10\"],\"requiredArgs\" : {}},\"menus\" : {}}},\"messages\" : {},\"callbacks\" : {}}},\"links\" : {\"F239\" : {\"id\" : \"F239\",\"source\" : \"F209\",\"length\" : 0,\"weight\" : 0,\"color\" : \"\",\"invisible\" : false,\"target\" : \"F209\"},\"F240\" : {\"id\" : \"F240\",\"source\" : \"F212\",\"length\" : 0,\"weight\" : 0,\"color\" : \"\",\"invisible\" : false,\"target\" : \"F209\"},\"F241\" : {\"id\" : \"F241\",\"source\" : \"F212\",\"length\" : 0,\"weight\" : 0,\"color\" : \"\",\"invisible\" : false,\"target\" : \"F212\"},\"F242\" : {\"id\" : \"F242\",\"source\" : \"F215\",\"length\" : 0,\"weight\" : 0,\"color\" : \"\",\"invisible\" : false,\"target\" : \"F209\"},\"F243\" : {\"id\" : \"F243\",\"source\" : \"F215\",\"length\" : 0,\"weight\" : 0,\"color\" : \"\",\"invisible\" : false,\"target\" : \"F215\"},\"F244\" : {\"id\" : \"F244\",\"source\" : \"F218\",\"length\" : 0,\"weight\" : 0,\"color\" : \"\",\"invisible\" : false,\"target\" : \"F209\"},\"F245\" : {\"id\" : \"F245\",\"source\" : \"F218\",\"length\" : 0,\"weight\" : 0,\"color\" : \"\",\"invisible\" : false,\"target\" : \"F218\"},\"F246\" : {\"id\" : \"F246\",\"source\" : \"F221\",\"length\" : 0,\"weight\" : 0,\"color\" : \"\",\"invisible\" : false,\"target\" : \"F209\"},\"F247\" : {\"id\" : \"F247\",\"source\" : \"F221\",\"length\" : 0,\"weight\" : 0,\"color\" : \"\",\"invisible\" : false,\"target\" : \"F221\"},\"F248\" : {\"id\" : \"F248\",\"source\" : \"F224\",\"length\" : 0,\"weight\" : 0,\"color\" : \"\",\"invisible\" : false,\"target\" : \"F209\"},\"F249\" : {\"id\" : \"F249\",\"source\" : \"F224\",\"length\" : 0,\"weight\" : 0,\"color\" : \"\",\"invisible\" : false,\"target\" : \"F224\"},\"F250\" : {\"id\" : \"F250\",\"source\" : \"F227\",\"length\" : 0,\"weight\" : 0,\"color\" : \"\",\"invisible\" : false,\"target\" : \"F209\"},\"F251\" : {\"id\" : \"F251\",\"source\" : \"F227\",\"length\" : 0,\"weight\" : 0,\"color\" : \"\",\"invisible\" : false,\"target\" : \"F212\"},\"F252\" : {\"id\" : \"F252\",\"source\" : \"F227\",\"length\" : 0,\"weight\" : 0,\"color\" : \"\",\"invisible\" : false,\"target\" : \"F215\"},\"F253\" : {\"id\" : \"F253\",\"source\" : \"F227\",\"length\" : 0,\"weight\" : 0,\"color\" : \"\",\"invisible\" : false,\"target\" : \"F218\"},\"F254\" : {\"id\" : \"F254\",\"source\" : \"F227\",\"length\" : 0,\"weight\" : 0,\"color\" : \"\",\"invisible\" : false,\"target\" : \"F227\"},\"F255\" : {\"id\" : \"F255\",\"source\" : \"F230\",\"length\" : 0,\"weight\" : 0,\"color\" : \"\",\"invisible\" : false,\"target\" : \"F209\"},\"F256\" : {\"id\" : \"F256\",\"source\" : \"F230\",\"length\" : 0,\"weight\" : 0,\"color\" : \"\",\"invisible\" : false,\"target\" : \"F212\"},\"F257\" : {\"id\" : \"F257\",\"source\" : \"F230\",\"length\" : 0,\"weight\" : 0,\"color\" : \"\",\"invisible\" : false,\"target\" : \"F230\"},\"F258\" : {\"id\" : \"F258\",\"source\" : \"F233\",\"length\" : 0,\"weight\" : 0,\"color\" : \"\",\"invisible\" : false,\"target\" : \"F209\"},\"F259\" : {\"id\" : \"F259\",\"source\" : \"F233\",\"length\" : 0,\"weight\" : 0,\"color\" : \"\",\"invisible\" : false,\"target\" : \"F212\"},\"F260\" : {\"id\" : \"F260\",\"source\" : \"F233\",\"length\" : 0,\"weight\" : 0,\"color\" : \"\",\"invisible\" : false,\"target\" : \"F221\"},\"F261\" : {\"id\" : \"F261\",\"source\" : \"F233\",\"length\" : 0,\"weight\" : 0,\"color\" : \"\",\"invisible\" : false,\"target\" : \"F224\"},\"F262\" : {\"id\" : \"F262\",\"source\" : \"F233\",\"length\" : 0,\"weight\" : 0,\"color\" : \"\",\"invisible\" : false,\"target\" : \"F233\"},\"F263\" : {\"id\" : \"F263\",\"source\" : \"F236\",\"length\" : 0,\"weight\" : 0,\"color\" : \"\",\"invisible\" : false,\"target\" : \"F209\"},\"F264\" : {\"id\" : \"F264\",\"source\" : \"F236\",\"length\" : 0,\"weight\" : 0,\"color\" : \"\",\"invisible\" : false,\"target\" : \"F212\"},\"F265\" : {\"id\" : \"F265\",\"source\" : \"F236\",\"length\" : 0,\"weight\" : 0,\"color\" : \"\",\"invisible\" : false,\"target\" : \"F215\"},\"F266\" : {\"id\" : \"F266\",\"source\" : \"F236\",\"length\" : 0,\"weight\" : 0,\"color\" : \"\",\"invisible\" : false,\"target\" : \"F218\"},\"F267\" : {\"id\" : \"F267\",\"source\" : \"F236\",\"length\" : 0,\"weight\" : 0,\"color\" : \"\",\"invisible\" : false,\"target\" : \"F221\"},\"F268\" : {\"id\" : \"F268\",\"source\" : \"F236\",\"length\" : 0,\"weight\" : 0,\"color\" : \"\",\"invisible\" : false,\"target\" : \"F224\"},\"F269\" : {\"id\" : \"F269\",\"source\" : \"F236\",\"length\" : 0,\"weight\" : 0,\"color\" : \"\",\"invisible\" : false,\"target\" : \"F227\"},\"F270\" : {\"id\" : \"F270\",\"source\" : \"F236\",\"length\" : 0,\"weight\" : 0,\"color\" : \"\",\"invisible\" : false,\"target\" : \"F230\"},\"F271\" : {\"id\" : \"F271\",\"source\" : \"F236\",\"length\" : 0,\"weight\" : 0,\"color\" : \"\",\"invisible\" : false,\"target\" : \"F233\"},\"F272\" : {\"id\" : \"F272\",\"source\" : \"F236\",\"length\" : 0,\"weight\" : 0,\"color\" : \"\",\"invisible\" : false,\"target\" : \"F236\"}}},\"messages\" : {}}}"
     },
     "execution_count": 36,
     "metadata": {
      "application/vnd.francy+json": {}
     },
     "output_type": "execute_result"
    }
   ],
   "source": [
    "G := DihedralGroup(8);; #SymmetricGroup(5);; #FreeGroup( \"a\", \"b\" );;\n",
    "as := AllSubgroups(G);;\n",
    "d := Digraph(as, {H, K} -> IsSubgroup(H, K));;\n",
    "\n",
    "vertices := DigraphVertices(d);;\n",
    "edges := DigraphEdges(d);;\n",
    "\n",
    "graph := Graph(GraphType.DIRECTED);;\n",
    "#SetDrag(graph, true);;\n",
    "nodes := [];;\n",
    "\n",
    "simpleGroupMessage := FrancyMessage(FrancyMessageType.INFO, \"Simple Groups\", \"A group is simple if it is nontrivial and has no nontrivial normal subgroups.\");;\n",
    "\n",
    "IsGroupSimple := function(i)\n",
    "    Add(canvas, simpleGroupMessage);;\n",
    "    if IsSimpleGroup(as[i]) then\n",
    "        Add(canvas, FrancyMessage(\"Simple\", Concatenation(\"The vertex \", String(i), \", representing the subgroup \", String(as[i]), \", is simple.\")));;\n",
    "    else\n",
    "        Add(canvas, FrancyMessage(\"Not Simple\", Concatenation(\"The vertex \", String(i), \", representing the subgroup \", String(as[i]), \", is not simple.\")));;\n",
    "    fi;;\n",
    "    return Draw(canvas);\n",
    "end;;\n",
    "    \n",
    "for i in vertices do;\n",
    "    nodes[i] := Shape(ShapeType.CIRCLE, String(i));;\n",
    "#SetColor(nodes[i], \"#0c9460\");;\n",
    "    Add(nodes[i], Menu(\"Is this subgroup simple?\", Callback(IsGroupSimple, [i])));;\n",
    "    Add(graph, nodes[i]);;\n",
    "od;;\n",
    "\n",
    "for i in edges do\n",
    "    Add(graph, Link(nodes[i[1]], nodes[i[2]]));;\n",
    "od;;\n",
    "\n",
    "canvas := Canvas(Concatenation(\"Subgroups Digraph of \", String(G)));;\n",
    "Add(canvas, graph);;\n",
    "Draw(canvas);"
   ]
  },
  {
   "cell_type": "code",
   "execution_count": null,
   "metadata": {},
   "outputs": [],
   "source": []
  }
 ],
 "metadata": {
  "celltoolbar": "Raw Cell Format",
  "kernelspec": {
   "display_name": "GAP 4 (native)",
   "language": "gap",
   "name": "gap-native"
  },
  "language_info": {
   "codemirror_mode": "gap",
   "file_extension": ".g",
   "mimetype": "text/x-gap",
   "name": "GAP (native)",
   "nbconvert_exporter": "",
   "pygments_lexer": "gap",
   "version": "4.dev"
  }
 },
 "nbformat": 4,
 "nbformat_minor": 2
}
