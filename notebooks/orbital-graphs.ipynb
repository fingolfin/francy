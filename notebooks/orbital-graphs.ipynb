{
 "cells": [{
   "cell_type": "markdown",
   "metadata": {},
   "source": [
    "# Demo for the OrbitalGraphs GAP package\n",
    "\n",
    "This attempts to draw orbital graphs for groups $G \\leq S_n$"
   ]
  },
  {
   "cell_type": "code",
   "execution_count": 2,
   "metadata": {},
   "outputs": [{
     "data": {
      "text/plain": [
       "true"
      ]
     },
     "execution_count": 1,
     "metadata": {
      "text/plain": ""
     },
     "output_type": "execute_result"
    },
    {
     "data": {
      "text/plain": [
       "true"
      ]
     },
     "execution_count": 2,
     "metadata": {
      "text/plain": ""
     },
     "output_type": "execute_result"
    }
   ],
   "source": [
    "LoadPackage(\"OrbitalGraphs\");\n",
    "LoadPackage(\"Francy\");"
   ]
  },
  {
   "cell_type": "code",
   "execution_count": 14,
   "metadata": {},
   "outputs": [{
    "data": {
     "text/plain": [
      "function( OG ) ... end"
     ]
    },
    "execution_count": 14,
    "metadata": {
     "text/plain": ""
    },
    "output_type": "execute_result"
   }],
   "source": [
    "# Input: an orbital graph\n",
    "# Draws orbital graphs\n",
    "\n",
    "DrawOrbitalGraph := function(OG)\n",
    "    local canvas, fgraph, i, e, nodes;\n",
    "    \n",
    "    # todo: make it possible to put a caption here\n",
    "    canvas := Canvas(Concatenation(\"Orbital Graph of\", \"\"));\n",
    "    fgraph := Graph(GraphType.DIRECTED);\n",
    "    Add(canvas, fgraph);\n",
    "\n",
    "    nodes := [];\n",
    "\n",
    "    for i in DigraphVertices(OG) do\n",
    "        nodes[i] := Shape(ShapeType.CIRCLE, String(i));;\n",
    "        Add(fgraph, nodes[i]);\n",
    "    od;\n",
    "    for i in [1..Length(nodes)-1] do\n",
    "        e := Link(nodes[i], nodes[i+1]);\n",
    "        SetInvisible(e, true);\n",
    "        Add(fgraph, e);\n",
    "    od;\n",
    "    e := Link(nodes[Length(nodes)], nodes[1]);\n",
    "    SetInvisible(e, true);\n",
    "    Add(fgraph, e);\n",
    "\n",
    "    for e in DigraphEdges(OG) do\n",
    "        Add(fgraph, Link(nodes[e[1]], nodes[e[2]]));\n",
    "    od;\n",
    "\n",
    "    return Draw(canvas);\n",
    "end;"
   ]
  },
  {
   "cell_type": "code",
   "execution_count": 16,
   "metadata": {},
   "outputs": [{
     "data": {
      "text/plain": [
       "Group([ (1,2,3,4,5,6,7,8), (2,8)(3,7)(4,6) ])"
      ]
     },
     "execution_count": 15,
     "metadata": {
      "text/plain": ""
     },
     "output_type": "execute_result"
    },
    {
     "data": {
      "text/plain": [
       "[ <digraph with 8 vertices, 16 edges>, <digraph with 8 vertices, 16 edges>, <digraph with 8 vertices, 16 edges>, <digraph with 8 vertices, 8 edges> ]"
      ]
     },
     "execution_count": 16,
     "metadata": {
      "text/plain": ""
     },
     "output_type": "execute_result"
    }
   ],
   "source": [
    "G := DihedralGroup(IsPermGroup, 16);\n",
    "ogs := OrbitalGraphs(G);"
   ]
  },
  {
   "cell_type": "code",
   "execution_count": 17,
   "metadata": {},
   "outputs": [{
    "data": {
     "application/vnd.francy+json": "{\"version\" : \"0.8.10\",\"mime\" : \"application\\/vnd.francy+json\",\"canvas\" : {\"width\" : 800,\"id\" : \"F102\",\"height\" : 600,\"title\" : \"Orbital Graph of\",\"zoomToFit\" : true,\"texTypesetting\" : false,\"menus\" : {},\"graph\" : {\"type\" : \"directed\",\"id\" : \"F103\",\"simulation\" : true,\"collapsed\" : true,\"drag\" : false,\"showNeighbours\" : false,\"nodes\" : {\"F104\" : {\"x\" : 0,\"y\" : 0,\"type\" : \"circle\",\"id\" : \"F104\",\"size\" : 10,\"title\" : \"1\",\"color\" : \"\",\"layer\" : 0,\"parent\" : \"\",\"menus\" : {},\"messages\" : {},\"callbacks\" : {}},\"F105\" : {\"x\" : 0,\"y\" : 0,\"type\" : \"circle\",\"id\" : \"F105\",\"size\" : 10,\"title\" : \"2\",\"color\" : \"\",\"layer\" : 0,\"parent\" : \"\",\"menus\" : {},\"messages\" : {},\"callbacks\" : {}},\"F106\" : {\"x\" : 0,\"y\" : 0,\"type\" : \"circle\",\"id\" : \"F106\",\"size\" : 10,\"title\" : \"3\",\"color\" : \"\",\"layer\" : 0,\"parent\" : \"\",\"menus\" : {},\"messages\" : {},\"callbacks\" : {}},\"F107\" : {\"x\" : 0,\"y\" : 0,\"type\" : \"circle\",\"id\" : \"F107\",\"size\" : 10,\"title\" : \"4\",\"color\" : \"\",\"layer\" : 0,\"parent\" : \"\",\"menus\" : {},\"messages\" : {},\"callbacks\" : {}},\"F108\" : {\"x\" : 0,\"y\" : 0,\"type\" : \"circle\",\"id\" : \"F108\",\"size\" : 10,\"title\" : \"5\",\"color\" : \"\",\"layer\" : 0,\"parent\" : \"\",\"menus\" : {},\"messages\" : {},\"callbacks\" : {}},\"F109\" : {\"x\" : 0,\"y\" : 0,\"type\" : \"circle\",\"id\" : \"F109\",\"size\" : 10,\"title\" : \"6\",\"color\" : \"\",\"layer\" : 0,\"parent\" : \"\",\"menus\" : {},\"messages\" : {},\"callbacks\" : {}},\"F110\" : {\"x\" : 0,\"y\" : 0,\"type\" : \"circle\",\"id\" : \"F110\",\"size\" : 10,\"title\" : \"7\",\"color\" : \"\",\"layer\" : 0,\"parent\" : \"\",\"menus\" : {},\"messages\" : {},\"callbacks\" : {}},\"F111\" : {\"x\" : 0,\"y\" : 0,\"type\" : \"circle\",\"id\" : \"F111\",\"size\" : 10,\"title\" : \"8\",\"color\" : \"\",\"layer\" : 0,\"parent\" : \"\",\"menus\" : {},\"messages\" : {},\"callbacks\" : {}}},\"links\" : {\"F112\" : {\"id\" : \"F112\",\"source\" : \"F104\",\"length\" : 0,\"weight\" : 0,\"target\" : \"F105\",\"color\" : \"\",\"invisible\" : true},\"F113\" : {\"id\" : \"F113\",\"source\" : \"F105\",\"length\" : 0,\"weight\" : 0,\"target\" : \"F106\",\"color\" : \"\",\"invisible\" : true},\"F114\" : {\"id\" : \"F114\",\"source\" : \"F106\",\"length\" : 0,\"weight\" : 0,\"target\" : \"F107\",\"color\" : \"\",\"invisible\" : true},\"F115\" : {\"id\" : \"F115\",\"source\" : \"F107\",\"length\" : 0,\"weight\" : 0,\"target\" : \"F108\",\"color\" : \"\",\"invisible\" : true},\"F116\" : {\"id\" : \"F116\",\"source\" : \"F108\",\"length\" : 0,\"weight\" : 0,\"target\" : \"F109\",\"color\" : \"\",\"invisible\" : true},\"F117\" : {\"id\" : \"F117\",\"source\" : \"F109\",\"length\" : 0,\"weight\" : 0,\"target\" : \"F110\",\"color\" : \"\",\"invisible\" : true},\"F118\" : {\"id\" : \"F118\",\"source\" : \"F110\",\"length\" : 0,\"weight\" : 0,\"target\" : \"F111\",\"color\" : \"\",\"invisible\" : true},\"F119\" : {\"id\" : \"F119\",\"source\" : \"F111\",\"length\" : 0,\"weight\" : 0,\"target\" : \"F104\",\"color\" : \"\",\"invisible\" : true},\"F120\" : {\"id\" : \"F120\",\"source\" : \"F104\",\"length\" : 0,\"weight\" : 0,\"target\" : \"F105\",\"color\" : \"\",\"invisible\" : false},\"F121\" : {\"id\" : \"F121\",\"source\" : \"F104\",\"length\" : 0,\"weight\" : 0,\"target\" : \"F111\",\"color\" : \"\",\"invisible\" : false},\"F122\" : {\"id\" : \"F122\",\"source\" : \"F105\",\"length\" : 0,\"weight\" : 0,\"target\" : \"F106\",\"color\" : \"\",\"invisible\" : false},\"F123\" : {\"id\" : \"F123\",\"source\" : \"F105\",\"length\" : 0,\"weight\" : 0,\"target\" : \"F104\",\"color\" : \"\",\"invisible\" : false},\"F124\" : {\"id\" : \"F124\",\"source\" : \"F106\",\"length\" : 0,\"weight\" : 0,\"target\" : \"F107\",\"color\" : \"\",\"invisible\" : false},\"F125\" : {\"id\" : \"F125\",\"source\" : \"F106\",\"length\" : 0,\"weight\" : 0,\"target\" : \"F105\",\"color\" : \"\",\"invisible\" : false},\"F126\" : {\"id\" : \"F126\",\"source\" : \"F107\",\"length\" : 0,\"weight\" : 0,\"target\" : \"F108\",\"color\" : \"\",\"invisible\" : false},\"F127\" : {\"id\" : \"F127\",\"source\" : \"F107\",\"length\" : 0,\"weight\" : 0,\"target\" : \"F106\",\"color\" : \"\",\"invisible\" : false},\"F128\" : {\"id\" : \"F128\",\"source\" : \"F108\",\"length\" : 0,\"weight\" : 0,\"target\" : \"F109\",\"color\" : \"\",\"invisible\" : false},\"F129\" : {\"id\" : \"F129\",\"source\" : \"F108\",\"length\" : 0,\"weight\" : 0,\"target\" : \"F107\",\"color\" : \"\",\"invisible\" : false},\"F130\" : {\"id\" : \"F130\",\"source\" : \"F109\",\"length\" : 0,\"weight\" : 0,\"target\" : \"F108\",\"color\" : \"\",\"invisible\" : false},\"F131\" : {\"id\" : \"F131\",\"source\" : \"F109\",\"length\" : 0,\"weight\" : 0,\"target\" : \"F110\",\"color\" : \"\",\"invisible\" : false},\"F132\" : {\"id\" : \"F132\",\"source\" : \"F110\",\"length\" : 0,\"weight\" : 0,\"target\" : \"F109\",\"color\" : \"\",\"invisible\" : false},\"F133\" : {\"id\" : \"F133\",\"source\" : \"F110\",\"length\" : 0,\"weight\" : 0,\"target\" : \"F111\",\"color\" : \"\",\"invisible\" : false},\"F134\" : {\"id\" : \"F134\",\"source\" : \"F111\",\"length\" : 0,\"weight\" : 0,\"target\" : \"F110\",\"color\" : \"\",\"invisible\" : false},\"F135\" : {\"id\" : \"F135\",\"source\" : \"F111\",\"length\" : 0,\"weight\" : 0,\"target\" : \"F104\",\"color\" : \"\",\"invisible\" : false}}},\"messages\" : {}}}"
    },
    "execution_count": 17,
    "metadata": {
     "application/vnd.francy+json": {}
    },
    "output_type": "execute_result"
   }],
   "source": [
    "# This seems to work quite ok\n",
    "DrawOrbitalGraph(ogs[1]);"
   ]
  },
  {
   "cell_type": "code",
   "execution_count": 18,
   "metadata": {},
   "outputs": [{
    "data": {
     "application/vnd.francy+json": "{\"version\" : \"0.8.10\",\"mime\" : \"application\\/vnd.francy+json\",\"canvas\" : {\"width\" : 800,\"id\" : \"F136\",\"height\" : 600,\"title\" : \"Orbital Graph of\",\"zoomToFit\" : true,\"texTypesetting\" : false,\"menus\" : {},\"graph\" : {\"type\" : \"directed\",\"id\" : \"F137\",\"simulation\" : true,\"collapsed\" : true,\"drag\" : false,\"showNeighbours\" : false,\"nodes\" : {\"F138\" : {\"x\" : 0,\"y\" : 0,\"type\" : \"circle\",\"id\" : \"F138\",\"size\" : 10,\"title\" : \"1\",\"color\" : \"\",\"layer\" : 0,\"parent\" : \"\",\"menus\" : {},\"messages\" : {},\"callbacks\" : {}},\"F139\" : {\"x\" : 0,\"y\" : 0,\"type\" : \"circle\",\"id\" : \"F139\",\"size\" : 10,\"title\" : \"2\",\"color\" : \"\",\"layer\" : 0,\"parent\" : \"\",\"menus\" : {},\"messages\" : {},\"callbacks\" : {}},\"F140\" : {\"x\" : 0,\"y\" : 0,\"type\" : \"circle\",\"id\" : \"F140\",\"size\" : 10,\"title\" : \"3\",\"color\" : \"\",\"layer\" : 0,\"parent\" : \"\",\"menus\" : {},\"messages\" : {},\"callbacks\" : {}},\"F141\" : {\"x\" : 0,\"y\" : 0,\"type\" : \"circle\",\"id\" : \"F141\",\"size\" : 10,\"title\" : \"4\",\"color\" : \"\",\"layer\" : 0,\"parent\" : \"\",\"menus\" : {},\"messages\" : {},\"callbacks\" : {}},\"F142\" : {\"x\" : 0,\"y\" : 0,\"type\" : \"circle\",\"id\" : \"F142\",\"size\" : 10,\"title\" : \"5\",\"color\" : \"\",\"layer\" : 0,\"parent\" : \"\",\"menus\" : {},\"messages\" : {},\"callbacks\" : {}},\"F143\" : {\"x\" : 0,\"y\" : 0,\"type\" : \"circle\",\"id\" : \"F143\",\"size\" : 10,\"title\" : \"6\",\"color\" : \"\",\"layer\" : 0,\"parent\" : \"\",\"menus\" : {},\"messages\" : {},\"callbacks\" : {}},\"F144\" : {\"x\" : 0,\"y\" : 0,\"type\" : \"circle\",\"id\" : \"F144\",\"size\" : 10,\"title\" : \"7\",\"color\" : \"\",\"layer\" : 0,\"parent\" : \"\",\"menus\" : {},\"messages\" : {},\"callbacks\" : {}},\"F145\" : {\"x\" : 0,\"y\" : 0,\"type\" : \"circle\",\"id\" : \"F145\",\"size\" : 10,\"title\" : \"8\",\"color\" : \"\",\"layer\" : 0,\"parent\" : \"\",\"menus\" : {},\"messages\" : {},\"callbacks\" : {}}},\"links\" : {\"F146\" : {\"id\" : \"F146\",\"source\" : \"F138\",\"length\" : 0,\"weight\" : 0,\"target\" : \"F139\",\"color\" : \"\",\"invisible\" : true},\"F147\" : {\"id\" : \"F147\",\"source\" : \"F139\",\"length\" : 0,\"weight\" : 0,\"target\" : \"F140\",\"color\" : \"\",\"invisible\" : true},\"F148\" : {\"id\" : \"F148\",\"source\" : \"F140\",\"length\" : 0,\"weight\" : 0,\"target\" : \"F141\",\"color\" : \"\",\"invisible\" : true},\"F149\" : {\"id\" : \"F149\",\"source\" : \"F141\",\"length\" : 0,\"weight\" : 0,\"target\" : \"F142\",\"color\" : \"\",\"invisible\" : true},\"F150\" : {\"id\" : \"F150\",\"source\" : \"F142\",\"length\" : 0,\"weight\" : 0,\"target\" : \"F143\",\"color\" : \"\",\"invisible\" : true},\"F151\" : {\"id\" : \"F151\",\"source\" : \"F143\",\"length\" : 0,\"weight\" : 0,\"target\" : \"F144\",\"color\" : \"\",\"invisible\" : true},\"F152\" : {\"id\" : \"F152\",\"source\" : \"F144\",\"length\" : 0,\"weight\" : 0,\"target\" : \"F145\",\"color\" : \"\",\"invisible\" : true},\"F153\" : {\"id\" : \"F153\",\"source\" : \"F145\",\"length\" : 0,\"weight\" : 0,\"target\" : \"F138\",\"color\" : \"\",\"invisible\" : true},\"F154\" : {\"id\" : \"F154\",\"source\" : \"F138\",\"length\" : 0,\"weight\" : 0,\"target\" : \"F140\",\"color\" : \"\",\"invisible\" : false},\"F155\" : {\"id\" : \"F155\",\"source\" : \"F138\",\"length\" : 0,\"weight\" : 0,\"target\" : \"F144\",\"color\" : \"\",\"invisible\" : false},\"F156\" : {\"id\" : \"F156\",\"source\" : \"F139\",\"length\" : 0,\"weight\" : 0,\"target\" : \"F141\",\"color\" : \"\",\"invisible\" : false},\"F157\" : {\"id\" : \"F157\",\"source\" : \"F139\",\"length\" : 0,\"weight\" : 0,\"target\" : \"F145\",\"color\" : \"\",\"invisible\" : false},\"F158\" : {\"id\" : \"F158\",\"source\" : \"F140\",\"length\" : 0,\"weight\" : 0,\"target\" : \"F142\",\"color\" : \"\",\"invisible\" : false},\"F159\" : {\"id\" : \"F159\",\"source\" : \"F140\",\"length\" : 0,\"weight\" : 0,\"target\" : \"F138\",\"color\" : \"\",\"invisible\" : false},\"F160\" : {\"id\" : \"F160\",\"source\" : \"F141\",\"length\" : 0,\"weight\" : 0,\"target\" : \"F143\",\"color\" : \"\",\"invisible\" : false},\"F161\" : {\"id\" : \"F161\",\"source\" : \"F141\",\"length\" : 0,\"weight\" : 0,\"target\" : \"F139\",\"color\" : \"\",\"invisible\" : false},\"F162\" : {\"id\" : \"F162\",\"source\" : \"F142\",\"length\" : 0,\"weight\" : 0,\"target\" : \"F144\",\"color\" : \"\",\"invisible\" : false},\"F163\" : {\"id\" : \"F163\",\"source\" : \"F142\",\"length\" : 0,\"weight\" : 0,\"target\" : \"F140\",\"color\" : \"\",\"invisible\" : false},\"F164\" : {\"id\" : \"F164\",\"source\" : \"F143\",\"length\" : 0,\"weight\" : 0,\"target\" : \"F141\",\"color\" : \"\",\"invisible\" : false},\"F165\" : {\"id\" : \"F165\",\"source\" : \"F143\",\"length\" : 0,\"weight\" : 0,\"target\" : \"F145\",\"color\" : \"\",\"invisible\" : false},\"F166\" : {\"id\" : \"F166\",\"source\" : \"F144\",\"length\" : 0,\"weight\" : 0,\"target\" : \"F142\",\"color\" : \"\",\"invisible\" : false},\"F167\" : {\"id\" : \"F167\",\"source\" : \"F144\",\"length\" : 0,\"weight\" : 0,\"target\" : \"F138\",\"color\" : \"\",\"invisible\" : false},\"F168\" : {\"id\" : \"F168\",\"source\" : \"F145\",\"length\" : 0,\"weight\" : 0,\"target\" : \"F143\",\"color\" : \"\",\"invisible\" : false},\"F169\" : {\"id\" : \"F169\",\"source\" : \"F145\",\"length\" : 0,\"weight\" : 0,\"target\" : \"F139\",\"color\" : \"\",\"invisible\" : false}}},\"messages\" : {}}}"
    },
    "execution_count": 18,
    "metadata": {
     "application/vnd.francy+json": {}
    },
    "output_type": "execute_result"
   }],
   "source": [
    "# This, not so much\n",
    "DrawOrbitalGraph(ogs[2]);"
   ]
  },
  {
   "cell_type": "code",
   "execution_count": 20,
   "metadata": {},
   "outputs": [{
     "data": {
      "text/plain": [
       "Group([ (1,2,3), (1,2), (4,5,6,7,8) ])"
      ]
     },
     "execution_count": 19,
     "metadata": {
      "text/plain": ""
     },
     "output_type": "execute_result"
    },
    {
     "data": {
      "text/plain": [
       "[ <digraph with 8 vertices, 6 edges>, <digraph with 8 vertices, 15 edges>, <digraph with 8 vertices, 15 edges>, <digraph with 8 vertices, 5 edges>, <digraph with 8 vertices, 5 edges>, <digraph with 8 vertices, 5 edges>, <digraph with 8 vertices, 5 edges> ]"
      ]
     },
     "execution_count": 20,
     "metadata": {
      "text/plain": ""
     },
     "output_type": "execute_result"
    }
   ],
   "source": [
    "G := DirectProduct(SymmetricGroup(3), CyclicGroup(IsPermGroup, 5));\n",
    "ogs := OrbitalGraphs(G);"
   ]
  },
  {
   "cell_type": "code",
   "execution_count": 21,
   "metadata": {},
   "outputs": [{
    "data": {
     "application/vnd.francy+json": "{\"version\" : \"0.8.10\",\"mime\" : \"application\\/vnd.francy+json\",\"canvas\" : {\"width\" : 800,\"id\" : \"F170\",\"height\" : 600,\"title\" : \"Orbital Graph of\",\"zoomToFit\" : true,\"texTypesetting\" : false,\"menus\" : {},\"graph\" : {\"type\" : \"directed\",\"id\" : \"F171\",\"simulation\" : true,\"collapsed\" : true,\"drag\" : false,\"showNeighbours\" : false,\"nodes\" : {\"F172\" : {\"x\" : 0,\"y\" : 0,\"type\" : \"circle\",\"id\" : \"F172\",\"size\" : 10,\"title\" : \"1\",\"color\" : \"\",\"layer\" : 0,\"parent\" : \"\",\"menus\" : {},\"messages\" : {},\"callbacks\" : {}},\"F173\" : {\"x\" : 0,\"y\" : 0,\"type\" : \"circle\",\"id\" : \"F173\",\"size\" : 10,\"title\" : \"2\",\"color\" : \"\",\"layer\" : 0,\"parent\" : \"\",\"menus\" : {},\"messages\" : {},\"callbacks\" : {}},\"F174\" : {\"x\" : 0,\"y\" : 0,\"type\" : \"circle\",\"id\" : \"F174\",\"size\" : 10,\"title\" : \"3\",\"color\" : \"\",\"layer\" : 0,\"parent\" : \"\",\"menus\" : {},\"messages\" : {},\"callbacks\" : {}},\"F175\" : {\"x\" : 0,\"y\" : 0,\"type\" : \"circle\",\"id\" : \"F175\",\"size\" : 10,\"title\" : \"4\",\"color\" : \"\",\"layer\" : 0,\"parent\" : \"\",\"menus\" : {},\"messages\" : {},\"callbacks\" : {}},\"F176\" : {\"x\" : 0,\"y\" : 0,\"type\" : \"circle\",\"id\" : \"F176\",\"size\" : 10,\"title\" : \"5\",\"color\" : \"\",\"layer\" : 0,\"parent\" : \"\",\"menus\" : {},\"messages\" : {},\"callbacks\" : {}},\"F177\" : {\"x\" : 0,\"y\" : 0,\"type\" : \"circle\",\"id\" : \"F177\",\"size\" : 10,\"title\" : \"6\",\"color\" : \"\",\"layer\" : 0,\"parent\" : \"\",\"menus\" : {},\"messages\" : {},\"callbacks\" : {}},\"F178\" : {\"x\" : 0,\"y\" : 0,\"type\" : \"circle\",\"id\" : \"F178\",\"size\" : 10,\"title\" : \"7\",\"color\" : \"\",\"layer\" : 0,\"parent\" : \"\",\"menus\" : {},\"messages\" : {},\"callbacks\" : {}},\"F179\" : {\"x\" : 0,\"y\" : 0,\"type\" : \"circle\",\"id\" : \"F179\",\"size\" : 10,\"title\" : \"8\",\"color\" : \"\",\"layer\" : 0,\"parent\" : \"\",\"menus\" : {},\"messages\" : {},\"callbacks\" : {}}},\"links\" : {\"F180\" : {\"id\" : \"F180\",\"source\" : \"F172\",\"length\" : 0,\"weight\" : 0,\"target\" : \"F173\",\"color\" : \"\",\"invisible\" : true},\"F181\" : {\"id\" : \"F181\",\"source\" : \"F173\",\"length\" : 0,\"weight\" : 0,\"target\" : \"F174\",\"color\" : \"\",\"invisible\" : true},\"F182\" : {\"id\" : \"F182\",\"source\" : \"F174\",\"length\" : 0,\"weight\" : 0,\"target\" : \"F175\",\"color\" : \"\",\"invisible\" : true},\"F183\" : {\"id\" : \"F183\",\"source\" : \"F175\",\"length\" : 0,\"weight\" : 0,\"target\" : \"F176\",\"color\" : \"\",\"invisible\" : true},\"F184\" : {\"id\" : \"F184\",\"source\" : \"F176\",\"length\" : 0,\"weight\" : 0,\"target\" : \"F177\",\"color\" : \"\",\"invisible\" : true},\"F185\" : {\"id\" : \"F185\",\"source\" : \"F177\",\"length\" : 0,\"weight\" : 0,\"target\" : \"F178\",\"color\" : \"\",\"invisible\" : true},\"F186\" : {\"id\" : \"F186\",\"source\" : \"F178\",\"length\" : 0,\"weight\" : 0,\"target\" : \"F179\",\"color\" : \"\",\"invisible\" : true},\"F187\" : {\"id\" : \"F187\",\"source\" : \"F179\",\"length\" : 0,\"weight\" : 0,\"target\" : \"F172\",\"color\" : \"\",\"invisible\" : true},\"F188\" : {\"id\" : \"F188\",\"source\" : \"F172\",\"length\" : 0,\"weight\" : 0,\"target\" : \"F175\",\"color\" : \"\",\"invisible\" : false},\"F189\" : {\"id\" : \"F189\",\"source\" : \"F172\",\"length\" : 0,\"weight\" : 0,\"target\" : \"F176\",\"color\" : \"\",\"invisible\" : false},\"F190\" : {\"id\" : \"F190\",\"source\" : \"F172\",\"length\" : 0,\"weight\" : 0,\"target\" : \"F177\",\"color\" : \"\",\"invisible\" : false},\"F191\" : {\"id\" : \"F191\",\"source\" : \"F172\",\"length\" : 0,\"weight\" : 0,\"target\" : \"F178\",\"color\" : \"\",\"invisible\" : false},\"F192\" : {\"id\" : \"F192\",\"source\" : \"F172\",\"length\" : 0,\"weight\" : 0,\"target\" : \"F179\",\"color\" : \"\",\"invisible\" : false},\"F193\" : {\"id\" : \"F193\",\"source\" : \"F173\",\"length\" : 0,\"weight\" : 0,\"target\" : \"F175\",\"color\" : \"\",\"invisible\" : false},\"F194\" : {\"id\" : \"F194\",\"source\" : \"F173\",\"length\" : 0,\"weight\" : 0,\"target\" : \"F176\",\"color\" : \"\",\"invisible\" : false},\"F195\" : {\"id\" : \"F195\",\"source\" : \"F173\",\"length\" : 0,\"weight\" : 0,\"target\" : \"F177\",\"color\" : \"\",\"invisible\" : false},\"F196\" : {\"id\" : \"F196\",\"source\" : \"F173\",\"length\" : 0,\"weight\" : 0,\"target\" : \"F178\",\"color\" : \"\",\"invisible\" : false},\"F197\" : {\"id\" : \"F197\",\"source\" : \"F173\",\"length\" : 0,\"weight\" : 0,\"target\" : \"F179\",\"color\" : \"\",\"invisible\" : false},\"F198\" : {\"id\" : \"F198\",\"source\" : \"F174\",\"length\" : 0,\"weight\" : 0,\"target\" : \"F175\",\"color\" : \"\",\"invisible\" : false},\"F199\" : {\"id\" : \"F199\",\"source\" : \"F174\",\"length\" : 0,\"weight\" : 0,\"target\" : \"F176\",\"color\" : \"\",\"invisible\" : false},\"F200\" : {\"id\" : \"F200\",\"source\" : \"F174\",\"length\" : 0,\"weight\" : 0,\"target\" : \"F177\",\"color\" : \"\",\"invisible\" : false},\"F201\" : {\"id\" : \"F201\",\"source\" : \"F174\",\"length\" : 0,\"weight\" : 0,\"target\" : \"F178\",\"color\" : \"\",\"invisible\" : false},\"F202\" : {\"id\" : \"F202\",\"source\" : \"F174\",\"length\" : 0,\"weight\" : 0,\"target\" : \"F179\",\"color\" : \"\",\"invisible\" : false}}},\"messages\" : {}}}"
    },
    "execution_count": 21,
    "metadata": {
     "application/vnd.francy+json": {}
    },
    "output_type": "execute_result"
   }],
   "source": [
    "DrawOrbitalGraph(ogs[2]);"
   ]
  },
  {
   "cell_type": "code",
   "execution_count": 24,
   "metadata": {},
   "outputs": [{
     "data": {
      "image/svg+xml": [
       "<?xml version=\"1.0\" encoding=\"UTF-8\" standalone=\"no\"?>\n",
       "<!DOCTYPE svg PUBLIC \"-//W3C//DTD SVG 1.1//EN\"\n",
       " \"http://www.w3.org/Graphics/SVG/1.1/DTD/svg11.dtd\">\n",
       "<!-- Generated by graphviz version 2.36.0 (20140111.2315)\n",
       " -->\n",
       "<!-- Title: hgn Pages: 1 -->\n",
       "<svg width=\"260pt\" height=\"116pt\"\n",
       " viewBox=\"0.00 0.00 260.00 116.00\" xmlns=\"http://www.w3.org/2000/svg\" xmlns:xlink=\"http://www.w3.org/1999/xlink\">\n",
       "<g id=\"graph0\" class=\"graph\" transform=\"scale(1 1) rotate(0) translate(4 112)\">\n",
       "<title>hgn</title>\n",
       "<polygon fill=\"white\" stroke=\"none\" points=\"-4,4 -4,-112 256,-112 256,4 -4,4\"/>\n",
       "<!-- 1 -->\n",
       "<g id=\"node1\" class=\"node\"><title>1</title>\n",
       "<ellipse fill=\"none\" stroke=\"black\" cx=\"72\" cy=\"-90\" rx=\"18\" ry=\"18\"/>\n",
       "<text text-anchor=\"middle\" x=\"72\" y=\"-86.3\" font-family=\"Times,serif\" font-size=\"14.00\">1</text>\n",
       "</g>\n",
       "<!-- 4 -->\n",
       "<g id=\"node4\" class=\"node\"><title>4</title>\n",
       "<ellipse fill=\"none\" stroke=\"black\" cx=\"234\" cy=\"-18\" rx=\"18\" ry=\"18\"/>\n",
       "<text text-anchor=\"middle\" x=\"234\" y=\"-14.3\" font-family=\"Times,serif\" font-size=\"14.00\">4</text>\n",
       "</g>\n",
       "<!-- 1&#45;&gt;4 -->\n",
       "<g id=\"edge1\" class=\"edge\"><title>1&#45;&gt;4</title>\n",
       "<path fill=\"none\" stroke=\"black\" d=\"M86.4906,-78.9842C90.441,-76.5039 94.7939,-73.9896 99,-72 144.738,-50.365 161.262,-57.635 207,-36 208.183,-35.4404 209.378,-34.8393 210.572,-34.2092\"/>\n",
       "<polygon fill=\"black\" stroke=\"black\" points=\"212.621,-37.0661 219.509,-29.0158 209.105,-31.0136 212.621,-37.0661\"/>\n",
       "</g>\n",
       "<!-- 5 -->\n",
       "<g id=\"node5\" class=\"node\"><title>5</title>\n",
       "<ellipse fill=\"none\" stroke=\"black\" cx=\"18\" cy=\"-18\" rx=\"18\" ry=\"18\"/>\n",
       "<text text-anchor=\"middle\" x=\"18\" y=\"-14.3\" font-family=\"Times,serif\" font-size=\"14.00\">5</text>\n",
       "</g>\n",
       "<!-- 1&#45;&gt;5 -->\n",
       "<g id=\"edge2\" class=\"edge\"><title>1&#45;&gt;5</title>\n",
       "<path fill=\"none\" stroke=\"black\" d=\"M61.3313,-75.1703C53.7874,-65.391 43.5188,-52.0799 34.8713,-40.8702\"/>\n",
       "<polygon fill=\"black\" stroke=\"black\" points=\"37.5258,-38.581 28.6465,-32.801 31.9833,-42.8567 37.5258,-38.581\"/>\n",
       "</g>\n",
       "<!-- 6 -->\n",
       "<g id=\"node6\" class=\"node\"><title>6</title>\n",
       "<ellipse fill=\"none\" stroke=\"black\" cx=\"72\" cy=\"-18\" rx=\"18\" ry=\"18\"/>\n",
       "<text text-anchor=\"middle\" x=\"72\" y=\"-14.3\" font-family=\"Times,serif\" font-size=\"14.00\">6</text>\n",
       "</g>\n",
       "<!-- 1&#45;&gt;6 -->\n",
       "<g id=\"edge3\" class=\"edge\"><title>1&#45;&gt;6</title>\n",
       "<path fill=\"none\" stroke=\"black\" d=\"M72,-71.6966C72,-63.9827 72,-54.7125 72,-46.1124\"/>\n",
       "<polygon fill=\"black\" stroke=\"black\" points=\"75.5001,-46.1043 72,-36.1043 68.5001,-46.1044 75.5001,-46.1043\"/>\n",
       "</g>\n",
       "<!-- 7 -->\n",
       "<g id=\"node7\" class=\"node\"><title>7</title>\n",
       "<ellipse fill=\"none\" stroke=\"black\" cx=\"126\" cy=\"-18\" rx=\"18\" ry=\"18\"/>\n",
       "<text text-anchor=\"middle\" x=\"126\" y=\"-14.3\" font-family=\"Times,serif\" font-size=\"14.00\">7</text>\n",
       "</g>\n",
       "<!-- 1&#45;&gt;7 -->\n",
       "<g id=\"edge4\" class=\"edge\"><title>1&#45;&gt;7</title>\n",
       "<path fill=\"none\" stroke=\"black\" d=\"M82.6687,-75.1703C90.2126,-65.391 100.481,-52.0799 109.129,-40.8702\"/>\n",
       "<polygon fill=\"black\" stroke=\"black\" points=\"112.017,-42.8567 115.354,-32.801 106.474,-38.581 112.017,-42.8567\"/>\n",
       "</g>\n",
       "<!-- 8 -->\n",
       "<g id=\"node8\" class=\"node\"><title>8</title>\n",
       "<ellipse fill=\"none\" stroke=\"black\" cx=\"180\" cy=\"-18\" rx=\"18\" ry=\"18\"/>\n",
       "<text text-anchor=\"middle\" x=\"180\" y=\"-14.3\" font-family=\"Times,serif\" font-size=\"14.00\">8</text>\n",
       "</g>\n",
       "<!-- 1&#45;&gt;8 -->\n",
       "<g id=\"edge5\" class=\"edge\"><title>1&#45;&gt;8</title>\n",
       "<path fill=\"none\" stroke=\"black\" d=\"M87.0169,-79.2668C105.071,-67.5648 135.575,-47.7941 156.696,-34.1041\"/>\n",
       "<polygon fill=\"black\" stroke=\"black\" points=\"158.623,-37.0266 165.111,-28.6505 154.815,-31.1525 158.623,-37.0266\"/>\n",
       "</g>\n",
       "<!-- 2 -->\n",
       "<g id=\"node2\" class=\"node\"><title>2</title>\n",
       "<ellipse fill=\"none\" stroke=\"black\" cx=\"126\" cy=\"-90\" rx=\"18\" ry=\"18\"/>\n",
       "<text text-anchor=\"middle\" x=\"126\" y=\"-86.3\" font-family=\"Times,serif\" font-size=\"14.00\">2</text>\n",
       "</g>\n",
       "<!-- 2&#45;&gt;4 -->\n",
       "<g id=\"edge6\" class=\"edge\"><title>2&#45;&gt;4</title>\n",
       "<path fill=\"none\" stroke=\"black\" d=\"M141.017,-79.2668C159.071,-67.5648 189.575,-47.7941 210.696,-34.1041\"/>\n",
       "<polygon fill=\"black\" stroke=\"black\" points=\"212.623,-37.0266 219.111,-28.6505 208.815,-31.1525 212.623,-37.0266\"/>\n",
       "</g>\n",
       "<!-- 2&#45;&gt;5 -->\n",
       "<g id=\"edge7\" class=\"edge\"><title>2&#45;&gt;5</title>\n",
       "<path fill=\"none\" stroke=\"black\" d=\"M110.983,-79.2668C92.9286,-67.5648 62.4252,-47.7941 41.3035,-34.1041\"/>\n",
       "<polygon fill=\"black\" stroke=\"black\" points=\"43.1846,-31.1525 32.8894,-28.6505 39.3773,-37.0266 43.1846,-31.1525\"/>\n",
       "</g>\n",
       "<!-- 2&#45;&gt;6 -->\n",
       "<g id=\"edge8\" class=\"edge\"><title>2&#45;&gt;6</title>\n",
       "<path fill=\"none\" stroke=\"black\" d=\"M115.331,-75.1703C107.787,-65.391 97.5188,-52.0799 88.8713,-40.8702\"/>\n",
       "<polygon fill=\"black\" stroke=\"black\" points=\"91.5258,-38.581 82.6465,-32.801 85.9833,-42.8567 91.5258,-38.581\"/>\n",
       "</g>\n",
       "<!-- 2&#45;&gt;7 -->\n",
       "<g id=\"edge9\" class=\"edge\"><title>2&#45;&gt;7</title>\n",
       "<path fill=\"none\" stroke=\"black\" d=\"M126,-71.6966C126,-63.9827 126,-54.7125 126,-46.1124\"/>\n",
       "<polygon fill=\"black\" stroke=\"black\" points=\"129.5,-46.1043 126,-36.1043 122.5,-46.1044 129.5,-46.1043\"/>\n",
       "</g>\n",
       "<!-- 2&#45;&gt;8 -->\n",
       "<g id=\"edge10\" class=\"edge\"><title>2&#45;&gt;8</title>\n",
       "<path fill=\"none\" stroke=\"black\" d=\"M136.669,-75.1703C144.213,-65.391 154.481,-52.0799 163.129,-40.8702\"/>\n",
       "<polygon fill=\"black\" stroke=\"black\" points=\"166.017,-42.8567 169.354,-32.801 160.474,-38.581 166.017,-42.8567\"/>\n",
       "</g>\n",
       "<!-- 3 -->\n",
       "<g id=\"node3\" class=\"node\"><title>3</title>\n",
       "<ellipse fill=\"none\" stroke=\"black\" cx=\"180\" cy=\"-90\" rx=\"18\" ry=\"18\"/>\n",
       "<text text-anchor=\"middle\" x=\"180\" y=\"-86.3\" font-family=\"Times,serif\" font-size=\"14.00\">3</text>\n",
       "</g>\n",
       "<!-- 3&#45;&gt;4 -->\n",
       "<g id=\"edge11\" class=\"edge\"><title>3&#45;&gt;4</title>\n",
       "<path fill=\"none\" stroke=\"black\" d=\"M190.669,-75.1703C198.213,-65.391 208.481,-52.0799 217.129,-40.8702\"/>\n",
       "<polygon fill=\"black\" stroke=\"black\" points=\"220.017,-42.8567 223.354,-32.801 214.474,-38.581 220.017,-42.8567\"/>\n",
       "</g>\n",
       "<!-- 3&#45;&gt;5 -->\n",
       "<g id=\"edge12\" class=\"edge\"><title>3&#45;&gt;5</title>\n",
       "<path fill=\"none\" stroke=\"black\" d=\"M165.509,-78.9842C161.559,-76.5039 157.206,-73.9896 153,-72 107.262,-50.365 90.7376,-57.635 45,-36 43.817,-35.4404 42.6224,-34.8393 41.4285,-34.2092\"/>\n",
       "<polygon fill=\"black\" stroke=\"black\" points=\"42.8954,-31.0136 32.4906,-29.0158 39.3785,-37.0661 42.8954,-31.0136\"/>\n",
       "</g>\n",
       "<!-- 3&#45;&gt;6 -->\n",
       "<g id=\"edge13\" class=\"edge\"><title>3&#45;&gt;6</title>\n",
       "<path fill=\"none\" stroke=\"black\" d=\"M164.983,-79.2668C146.929,-67.5648 116.425,-47.7941 95.3035,-34.1041\"/>\n",
       "<polygon fill=\"black\" stroke=\"black\" points=\"97.1846,-31.1525 86.8894,-28.6505 93.3773,-37.0266 97.1846,-31.1525\"/>\n",
       "</g>\n",
       "<!-- 3&#45;&gt;7 -->\n",
       "<g id=\"edge14\" class=\"edge\"><title>3&#45;&gt;7</title>\n",
       "<path fill=\"none\" stroke=\"black\" d=\"M169.331,-75.1703C161.787,-65.391 151.519,-52.0799 142.871,-40.8702\"/>\n",
       "<polygon fill=\"black\" stroke=\"black\" points=\"145.526,-38.581 136.646,-32.801 139.983,-42.8567 145.526,-38.581\"/>\n",
       "</g>\n",
       "<!-- 3&#45;&gt;8 -->\n",
       "<g id=\"edge15\" class=\"edge\"><title>3&#45;&gt;8</title>\n",
       "<path fill=\"none\" stroke=\"black\" d=\"M180,-71.6966C180,-63.9827 180,-54.7125 180,-46.1124\"/>\n",
       "<polygon fill=\"black\" stroke=\"black\" points=\"183.5,-46.1043 180,-36.1043 176.5,-46.1044 183.5,-46.1043\"/>\n",
       "</g>\n",
       "</g>\n",
       "</svg>\n"
      ]
     },
     "execution_count": 22,
     "metadata": {
      "image/svg+xml": {
       "height": 500,
       "width": 500
      }
     },
     "output_type": "execute_result"
    },
    {
     "data": {
      "image/svg+xml": [
       "<?xml version=\"1.0\" encoding=\"UTF-8\" standalone=\"no\"?>\n",
       "<!DOCTYPE svg PUBLIC \"-//W3C//DTD SVG 1.1//EN\"\n",
       " \"http://www.w3.org/Graphics/SVG/1.1/DTD/svg11.dtd\">\n",
       "<!-- Generated by graphviz version 2.36.0 (20140111.2315)\n",
       " -->\n",
       "<!-- Title: hgn Pages: 1 -->\n",
       "<svg width=\"206pt\" height=\"332pt\"\n",
       " viewBox=\"0.00 0.00 206.00 332.00\" xmlns=\"http://www.w3.org/2000/svg\" xmlns:xlink=\"http://www.w3.org/1999/xlink\">\n",
       "<g id=\"graph0\" class=\"graph\" transform=\"scale(1 1) rotate(0) translate(4 328)\">\n",
       "<title>hgn</title>\n",
       "<polygon fill=\"white\" stroke=\"none\" points=\"-4,4 -4,-328 202,-328 202,4 -4,4\"/>\n",
       "<!-- 1 -->\n",
       "<g id=\"node1\" class=\"node\"><title>1</title>\n",
       "<ellipse fill=\"none\" stroke=\"black\" cx=\"18\" cy=\"-306\" rx=\"18\" ry=\"18\"/>\n",
       "<text text-anchor=\"middle\" x=\"18\" y=\"-302.3\" font-family=\"Times,serif\" font-size=\"14.00\">1</text>\n",
       "</g>\n",
       "<!-- 2 -->\n",
       "<g id=\"node2\" class=\"node\"><title>2</title>\n",
       "<ellipse fill=\"none\" stroke=\"black\" cx=\"72\" cy=\"-306\" rx=\"18\" ry=\"18\"/>\n",
       "<text text-anchor=\"middle\" x=\"72\" y=\"-302.3\" font-family=\"Times,serif\" font-size=\"14.00\">2</text>\n",
       "</g>\n",
       "<!-- 3 -->\n",
       "<g id=\"node3\" class=\"node\"><title>3</title>\n",
       "<ellipse fill=\"none\" stroke=\"black\" cx=\"126\" cy=\"-306\" rx=\"18\" ry=\"18\"/>\n",
       "<text text-anchor=\"middle\" x=\"126\" y=\"-302.3\" font-family=\"Times,serif\" font-size=\"14.00\">3</text>\n",
       "</g>\n",
       "<!-- 4 -->\n",
       "<g id=\"node4\" class=\"node\"><title>4</title>\n",
       "<ellipse fill=\"none\" stroke=\"black\" cx=\"180\" cy=\"-306\" rx=\"18\" ry=\"18\"/>\n",
       "<text text-anchor=\"middle\" x=\"180\" y=\"-302.3\" font-family=\"Times,serif\" font-size=\"14.00\">4</text>\n",
       "</g>\n",
       "<!-- 6 -->\n",
       "<g id=\"node6\" class=\"node\"><title>6</title>\n",
       "<ellipse fill=\"none\" stroke=\"black\" cx=\"157\" cy=\"-234\" rx=\"18\" ry=\"18\"/>\n",
       "<text text-anchor=\"middle\" x=\"157\" y=\"-230.3\" font-family=\"Times,serif\" font-size=\"14.00\">6</text>\n",
       "</g>\n",
       "<!-- 4&#45;&gt;6 -->\n",
       "<g id=\"edge1\" class=\"edge\"><title>4&#45;&gt;6</title>\n",
       "<path fill=\"none\" stroke=\"black\" d=\"M174.666,-288.765C171.976,-280.578 168.647,-270.448 165.607,-261.195\"/>\n",
       "<polygon fill=\"black\" stroke=\"black\" points=\"168.912,-260.041 162.465,-251.633 162.262,-262.226 168.912,-260.041\"/>\n",
       "</g>\n",
       "<!-- 5 -->\n",
       "<g id=\"node5\" class=\"node\"><title>5</title>\n",
       "<ellipse fill=\"none\" stroke=\"black\" cx=\"157\" cy=\"-90\" rx=\"18\" ry=\"18\"/>\n",
       "<text text-anchor=\"middle\" x=\"157\" y=\"-86.3\" font-family=\"Times,serif\" font-size=\"14.00\">5</text>\n",
       "</g>\n",
       "<!-- 7 -->\n",
       "<g id=\"node7\" class=\"node\"><title>7</title>\n",
       "<ellipse fill=\"none\" stroke=\"black\" cx=\"180\" cy=\"-18\" rx=\"18\" ry=\"18\"/>\n",
       "<text text-anchor=\"middle\" x=\"180\" y=\"-14.3\" font-family=\"Times,serif\" font-size=\"14.00\">7</text>\n",
       "</g>\n",
       "<!-- 5&#45;&gt;7 -->\n",
       "<g id=\"edge2\" class=\"edge\"><title>5&#45;&gt;7</title>\n",
       "<path fill=\"none\" stroke=\"black\" d=\"M162.334,-72.7646C165.024,-64.5785 168.353,-54.4479 171.393,-45.1953\"/>\n",
       "<polygon fill=\"black\" stroke=\"black\" points=\"174.738,-46.2263 174.535,-35.6334 168.088,-44.0412 174.738,-46.2263\"/>\n",
       "</g>\n",
       "<!-- 8 -->\n",
       "<g id=\"node8\" class=\"node\"><title>8</title>\n",
       "<ellipse fill=\"none\" stroke=\"black\" cx=\"157\" cy=\"-162\" rx=\"18\" ry=\"18\"/>\n",
       "<text text-anchor=\"middle\" x=\"157\" y=\"-158.3\" font-family=\"Times,serif\" font-size=\"14.00\">8</text>\n",
       "</g>\n",
       "<!-- 6&#45;&gt;8 -->\n",
       "<g id=\"edge3\" class=\"edge\"><title>6&#45;&gt;8</title>\n",
       "<path fill=\"none\" stroke=\"black\" d=\"M157,-215.697C157,-207.983 157,-198.712 157,-190.112\"/>\n",
       "<polygon fill=\"black\" stroke=\"black\" points=\"160.5,-190.104 157,-180.104 153.5,-190.104 160.5,-190.104\"/>\n",
       "</g>\n",
       "<!-- 7&#45;&gt;4 -->\n",
       "<g id=\"edge4\" class=\"edge\"><title>7&#45;&gt;4</title>\n",
       "<path fill=\"none\" stroke=\"black\" d=\"M181.625,-36.1672C182.524,-46.5327 183.548,-60.0127 184,-72 187.012,-151.943 187.012,-172.057 184,-252 183.686,-260.335 183.095,-269.392 182.462,-277.621\"/>\n",
       "<polygon fill=\"black\" stroke=\"black\" points=\"178.953,-277.58 181.625,-287.833 185.93,-278.152 178.953,-277.58\"/>\n",
       "</g>\n",
       "<!-- 8&#45;&gt;5 -->\n",
       "<g id=\"edge5\" class=\"edge\"><title>8&#45;&gt;5</title>\n",
       "<path fill=\"none\" stroke=\"black\" d=\"M157,-143.697C157,-135.983 157,-126.712 157,-118.112\"/>\n",
       "<polygon fill=\"black\" stroke=\"black\" points=\"160.5,-118.104 157,-108.104 153.5,-118.104 160.5,-118.104\"/>\n",
       "</g>\n",
       "</g>\n",
       "</svg>\n"
      ]
     },
     "execution_count": 23,
     "metadata": {
      "image/svg+xml": {
       "height": 500,
       "width": 500
      }
     },
     "output_type": "execute_result"
    },
    {
     "data": {
      "image/svg+xml": [
       "<?xml version=\"1.0\" encoding=\"UTF-8\" standalone=\"no\"?>\n",
       "<!DOCTYPE svg PUBLIC \"-//W3C//DTD SVG 1.1//EN\"\n",
       " \"http://www.w3.org/Graphics/SVG/1.1/DTD/svg11.dtd\">\n",
       "<!-- Generated by graphviz version 2.36.0 (20140111.2315)\n",
       " -->\n",
       "<!-- Title: hgn Pages: 1 -->\n",
       "<svg width=\"206pt\" height=\"332pt\"\n",
       " viewBox=\"0.00 0.00 206.00 332.00\" xmlns=\"http://www.w3.org/2000/svg\" xmlns:xlink=\"http://www.w3.org/1999/xlink\">\n",
       "<g id=\"graph0\" class=\"graph\" transform=\"scale(1 1) rotate(0) translate(4 328)\">\n",
       "<title>hgn</title>\n",
       "<polygon fill=\"white\" stroke=\"none\" points=\"-4,4 -4,-328 202,-328 202,4 -4,4\"/>\n",
       "<!-- 1 -->\n",
       "<g id=\"node1\" class=\"node\"><title>1</title>\n",
       "<ellipse fill=\"none\" stroke=\"black\" cx=\"18\" cy=\"-306\" rx=\"18\" ry=\"18\"/>\n",
       "<text text-anchor=\"middle\" x=\"18\" y=\"-302.3\" font-family=\"Times,serif\" font-size=\"14.00\">1</text>\n",
       "</g>\n",
       "<!-- 2 -->\n",
       "<g id=\"node2\" class=\"node\"><title>2</title>\n",
       "<ellipse fill=\"none\" stroke=\"black\" cx=\"72\" cy=\"-306\" rx=\"18\" ry=\"18\"/>\n",
       "<text text-anchor=\"middle\" x=\"72\" y=\"-302.3\" font-family=\"Times,serif\" font-size=\"14.00\">2</text>\n",
       "</g>\n",
       "<!-- 3 -->\n",
       "<g id=\"node3\" class=\"node\"><title>3</title>\n",
       "<ellipse fill=\"none\" stroke=\"black\" cx=\"126\" cy=\"-306\" rx=\"18\" ry=\"18\"/>\n",
       "<text text-anchor=\"middle\" x=\"126\" y=\"-302.3\" font-family=\"Times,serif\" font-size=\"14.00\">3</text>\n",
       "</g>\n",
       "<!-- 4 -->\n",
       "<g id=\"node4\" class=\"node\"><title>4</title>\n",
       "<ellipse fill=\"none\" stroke=\"black\" cx=\"180\" cy=\"-306\" rx=\"18\" ry=\"18\"/>\n",
       "<text text-anchor=\"middle\" x=\"180\" y=\"-302.3\" font-family=\"Times,serif\" font-size=\"14.00\">4</text>\n",
       "</g>\n",
       "<!-- 8 -->\n",
       "<g id=\"node8\" class=\"node\"><title>8</title>\n",
       "<ellipse fill=\"none\" stroke=\"black\" cx=\"157\" cy=\"-234\" rx=\"18\" ry=\"18\"/>\n",
       "<text text-anchor=\"middle\" x=\"157\" y=\"-230.3\" font-family=\"Times,serif\" font-size=\"14.00\">8</text>\n",
       "</g>\n",
       "<!-- 4&#45;&gt;8 -->\n",
       "<g id=\"edge1\" class=\"edge\"><title>4&#45;&gt;8</title>\n",
       "<path fill=\"none\" stroke=\"black\" d=\"M174.666,-288.765C171.976,-280.578 168.647,-270.448 165.607,-261.195\"/>\n",
       "<polygon fill=\"black\" stroke=\"black\" points=\"168.912,-260.041 162.465,-251.633 162.262,-262.226 168.912,-260.041\"/>\n",
       "</g>\n",
       "<!-- 5 -->\n",
       "<g id=\"node5\" class=\"node\"><title>5</title>\n",
       "<ellipse fill=\"none\" stroke=\"black\" cx=\"180\" cy=\"-18\" rx=\"18\" ry=\"18\"/>\n",
       "<text text-anchor=\"middle\" x=\"180\" y=\"-14.3\" font-family=\"Times,serif\" font-size=\"14.00\">5</text>\n",
       "</g>\n",
       "<!-- 5&#45;&gt;4 -->\n",
       "<g id=\"edge2\" class=\"edge\"><title>5&#45;&gt;4</title>\n",
       "<path fill=\"none\" stroke=\"black\" d=\"M181.625,-36.1672C182.524,-46.5327 183.548,-60.0127 184,-72 187.012,-151.943 187.012,-172.057 184,-252 183.686,-260.335 183.095,-269.392 182.462,-277.621\"/>\n",
       "<polygon fill=\"black\" stroke=\"black\" points=\"178.953,-277.58 181.625,-287.833 185.93,-278.152 178.953,-277.58\"/>\n",
       "</g>\n",
       "<!-- 6 -->\n",
       "<g id=\"node6\" class=\"node\"><title>6</title>\n",
       "<ellipse fill=\"none\" stroke=\"black\" cx=\"157\" cy=\"-90\" rx=\"18\" ry=\"18\"/>\n",
       "<text text-anchor=\"middle\" x=\"157\" y=\"-86.3\" font-family=\"Times,serif\" font-size=\"14.00\">6</text>\n",
       "</g>\n",
       "<!-- 6&#45;&gt;5 -->\n",
       "<g id=\"edge3\" class=\"edge\"><title>6&#45;&gt;5</title>\n",
       "<path fill=\"none\" stroke=\"black\" d=\"M162.334,-72.7646C165.024,-64.5785 168.353,-54.4479 171.393,-45.1953\"/>\n",
       "<polygon fill=\"black\" stroke=\"black\" points=\"174.738,-46.2263 174.535,-35.6334 168.088,-44.0412 174.738,-46.2263\"/>\n",
       "</g>\n",
       "<!-- 7 -->\n",
       "<g id=\"node7\" class=\"node\"><title>7</title>\n",
       "<ellipse fill=\"none\" stroke=\"black\" cx=\"157\" cy=\"-162\" rx=\"18\" ry=\"18\"/>\n",
       "<text text-anchor=\"middle\" x=\"157\" y=\"-158.3\" font-family=\"Times,serif\" font-size=\"14.00\">7</text>\n",
       "</g>\n",
       "<!-- 7&#45;&gt;6 -->\n",
       "<g id=\"edge4\" class=\"edge\"><title>7&#45;&gt;6</title>\n",
       "<path fill=\"none\" stroke=\"black\" d=\"M157,-143.697C157,-135.983 157,-126.712 157,-118.112\"/>\n",
       "<polygon fill=\"black\" stroke=\"black\" points=\"160.5,-118.104 157,-108.104 153.5,-118.104 160.5,-118.104\"/>\n",
       "</g>\n",
       "<!-- 8&#45;&gt;7 -->\n",
       "<g id=\"edge5\" class=\"edge\"><title>8&#45;&gt;7</title>\n",
       "<path fill=\"none\" stroke=\"black\" d=\"M157,-215.697C157,-207.983 157,-198.712 157,-190.112\"/>\n",
       "<polygon fill=\"black\" stroke=\"black\" points=\"160.5,-190.104 157,-180.104 153.5,-190.104 160.5,-190.104\"/>\n",
       "</g>\n",
       "</g>\n",
       "</svg>\n"
      ]
     },
     "execution_count": 24,
     "metadata": {
      "image/svg+xml": {
       "height": 500,
       "width": 500
      }
     },
     "output_type": "execute_result"
    }
   ],
   "source": [
    "# Maybe slightly more useful?\n",
    "JupyterSplashDot(DotDigraph(ogs[2]));\n",
    "JupyterSplashDot(DotDigraph(ogs[5]));\n",
    "JupyterSplashDot(DotDigraph(ogs[7]));\n",
    "\n"
   ]
  },
  {
   "cell_type": "code",
   "execution_count": null,
   "metadata": {},
   "outputs": [],
   "source": []
  }
 ],
 "metadata": {
  "kernelspec": {
   "display_name": "GAP 4 (native)",
   "language": "gap",
   "name": "gap-native"
  },
  "language_info": {
   "codemirror_mode": "gap",
   "file_extension": ".g",
   "mimetype": "text/x-gap",
   "name": "GAP (native)",
   "nbconvert_exporter": "",
   "pygments_lexer": "gap",
   "version": "4.dev"
  }
 },
 "nbformat": 4,
 "nbformat_minor": 2
}
